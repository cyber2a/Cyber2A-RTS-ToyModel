{
 "cells": [
  {
   "cell_type": "code",
   "execution_count": 1,
   "metadata": {
    "id": "EbZ09Vq3b-Lh"
   },
   "outputs": [
    {
     "name": "stdout",
     "output_type": "stream",
     "text": [
      "Requirement already satisfied: mlflow-skinny in /opt/conda/lib/python3.11/site-packages (2.17.0)\n",
      "Requirement already satisfied: cachetools<6,>=5.0.0 in /opt/conda/lib/python3.11/site-packages (from mlflow-skinny) (5.3.2)\n",
      "Requirement already satisfied: click<9,>=7.0 in /opt/conda/lib/python3.11/site-packages (from mlflow-skinny) (8.1.7)\n",
      "Requirement already satisfied: cloudpickle<4 in /opt/conda/lib/python3.11/site-packages (from mlflow-skinny) (3.0.0)\n",
      "Requirement already satisfied: databricks-sdk<1,>=0.20.0 in /opt/conda/lib/python3.11/site-packages (from mlflow-skinny) (0.35.0)\n",
      "Requirement already satisfied: gitpython<4,>=3.1.9 in /opt/conda/lib/python3.11/site-packages (from mlflow-skinny) (3.1.40)\n",
      "Requirement already satisfied: importlib-metadata!=4.7.0,<9,>=3.7.0 in /opt/conda/lib/python3.11/site-packages (from mlflow-skinny) (6.8.0)\n",
      "Requirement already satisfied: opentelemetry-api<3,>=1.9.0 in /opt/conda/lib/python3.11/site-packages (from mlflow-skinny) (1.27.0)\n",
      "Requirement already satisfied: opentelemetry-sdk<3,>=1.9.0 in /opt/conda/lib/python3.11/site-packages (from mlflow-skinny) (1.27.0)\n",
      "Requirement already satisfied: packaging<25 in /opt/conda/lib/python3.11/site-packages (from mlflow-skinny) (23.2)\n",
      "Requirement already satisfied: protobuf<6,>=3.12.0 in /opt/conda/lib/python3.11/site-packages (from mlflow-skinny) (4.24.3)\n",
      "Requirement already satisfied: pyyaml<7,>=5.1 in /opt/conda/lib/python3.11/site-packages (from mlflow-skinny) (6.0.1)\n",
      "Requirement already satisfied: requests<3,>=2.17.3 in /opt/conda/lib/python3.11/site-packages (from mlflow-skinny) (2.31.0)\n",
      "Requirement already satisfied: sqlparse<1,>=0.4.0 in /opt/conda/lib/python3.11/site-packages (from mlflow-skinny) (0.5.1)\n",
      "Requirement already satisfied: google-auth~=2.0 in /opt/conda/lib/python3.11/site-packages (from databricks-sdk<1,>=0.20.0->mlflow-skinny) (2.35.0)\n",
      "Requirement already satisfied: gitdb<5,>=4.0.1 in /opt/conda/lib/python3.11/site-packages (from gitpython<4,>=3.1.9->mlflow-skinny) (4.0.10)\n",
      "Requirement already satisfied: zipp>=0.5 in /opt/conda/lib/python3.11/site-packages (from importlib-metadata!=4.7.0,<9,>=3.7.0->mlflow-skinny) (3.17.0)\n",
      "Requirement already satisfied: deprecated>=1.2.6 in /opt/conda/lib/python3.11/site-packages (from opentelemetry-api<3,>=1.9.0->mlflow-skinny) (1.2.14)\n",
      "Requirement already satisfied: opentelemetry-semantic-conventions==0.48b0 in /opt/conda/lib/python3.11/site-packages (from opentelemetry-sdk<3,>=1.9.0->mlflow-skinny) (0.48b0)\n",
      "Requirement already satisfied: typing-extensions>=3.7.4 in /opt/conda/lib/python3.11/site-packages (from opentelemetry-sdk<3,>=1.9.0->mlflow-skinny) (4.8.0)\n",
      "Requirement already satisfied: charset-normalizer<4,>=2 in /opt/conda/lib/python3.11/site-packages (from requests<3,>=2.17.3->mlflow-skinny) (3.3.0)\n",
      "Requirement already satisfied: idna<4,>=2.5 in /opt/conda/lib/python3.11/site-packages (from requests<3,>=2.17.3->mlflow-skinny) (3.4)\n",
      "Requirement already satisfied: urllib3<3,>=1.21.1 in /opt/conda/lib/python3.11/site-packages (from requests<3,>=2.17.3->mlflow-skinny) (2.0.7)\n",
      "Requirement already satisfied: certifi>=2017.4.17 in /opt/conda/lib/python3.11/site-packages (from requests<3,>=2.17.3->mlflow-skinny) (2023.7.22)\n",
      "Requirement already satisfied: wrapt<2,>=1.10 in /opt/conda/lib/python3.11/site-packages (from deprecated>=1.2.6->opentelemetry-api<3,>=1.9.0->mlflow-skinny) (1.16.0)\n",
      "Requirement already satisfied: smmap<6,>=3.0.1 in /opt/conda/lib/python3.11/site-packages (from gitdb<5,>=4.0.1->gitpython<4,>=3.1.9->mlflow-skinny) (3.0.5)\n",
      "Requirement already satisfied: pyasn1-modules>=0.2.1 in /opt/conda/lib/python3.11/site-packages (from google-auth~=2.0->databricks-sdk<1,>=0.20.0->mlflow-skinny) (0.4.1)\n",
      "Requirement already satisfied: rsa<5,>=3.1.4 in /opt/conda/lib/python3.11/site-packages (from google-auth~=2.0->databricks-sdk<1,>=0.20.0->mlflow-skinny) (4.9)\n",
      "Requirement already satisfied: pyasn1<0.7.0,>=0.4.6 in /opt/conda/lib/python3.11/site-packages (from pyasn1-modules>=0.2.1->google-auth~=2.0->databricks-sdk<1,>=0.20.0->mlflow-skinny) (0.6.1)\n",
      "Requirement already satisfied: opencv-python in /opt/conda/lib/python3.11/site-packages (4.10.0.84)\n",
      "Requirement already satisfied: numpy>=1.21.2 in /opt/conda/lib/python3.11/site-packages (from opencv-python) (1.24.4)\n",
      "Requirement already satisfied: pycocotools in /opt/conda/lib/python3.11/site-packages (2.0.8)\n",
      "Requirement already satisfied: matplotlib>=2.1.0 in /opt/conda/lib/python3.11/site-packages (from pycocotools) (3.8.0)\n",
      "Requirement already satisfied: numpy in /opt/conda/lib/python3.11/site-packages (from pycocotools) (1.24.4)\n",
      "Requirement already satisfied: contourpy>=1.0.1 in /opt/conda/lib/python3.11/site-packages (from matplotlib>=2.1.0->pycocotools) (1.1.1)\n",
      "Requirement already satisfied: cycler>=0.10 in /opt/conda/lib/python3.11/site-packages (from matplotlib>=2.1.0->pycocotools) (0.12.1)\n",
      "Requirement already satisfied: fonttools>=4.22.0 in /opt/conda/lib/python3.11/site-packages (from matplotlib>=2.1.0->pycocotools) (4.43.1)\n",
      "Requirement already satisfied: kiwisolver>=1.0.1 in /opt/conda/lib/python3.11/site-packages (from matplotlib>=2.1.0->pycocotools) (1.4.5)\n",
      "Requirement already satisfied: packaging>=20.0 in /opt/conda/lib/python3.11/site-packages (from matplotlib>=2.1.0->pycocotools) (23.2)\n",
      "Requirement already satisfied: pillow>=6.2.0 in /opt/conda/lib/python3.11/site-packages (from matplotlib>=2.1.0->pycocotools) (10.1.0)\n",
      "Requirement already satisfied: pyparsing>=2.3.1 in /opt/conda/lib/python3.11/site-packages (from matplotlib>=2.1.0->pycocotools) (3.1.1)\n",
      "Requirement already satisfied: python-dateutil>=2.7 in /opt/conda/lib/python3.11/site-packages (from matplotlib>=2.1.0->pycocotools) (2.8.2)\n",
      "Requirement already satisfied: six>=1.5 in /opt/conda/lib/python3.11/site-packages (from python-dateutil>=2.7->matplotlib>=2.1.0->pycocotools) (1.16.0)\n",
      "Requirement already satisfied: python-dotenv in /opt/conda/lib/python3.11/site-packages (1.0.1)\n"
     ]
    }
   ],
   "source": [
    "!pip install mlflow-skinny\n",
    "!pip install opencv-python\n",
    "!pip install pycocotools\n",
    "!pip install python-dotenv"
   ]
  },
  {
   "cell_type": "code",
   "execution_count": 2,
   "metadata": {},
   "outputs": [
    {
     "data": {
      "text/plain": [
       "True"
      ]
     },
     "execution_count": 2,
     "metadata": {},
     "output_type": "execute_result"
    }
   ],
   "source": [
    "from dotenv import load_dotenv\n",
    "load_dotenv(\"env.txt\")"
   ]
  },
  {
   "cell_type": "code",
   "execution_count": 3,
   "metadata": {
    "id": "CJwhcR1hp41n"
   },
   "outputs": [],
   "source": [
    "import sys\n",
    "\n",
    "sys.path.append(\"./toy_model\")\n",
    "\n"
   ]
  },
  {
   "cell_type": "code",
   "execution_count": 9,
   "metadata": {
    "id": "xTcc_EsTaf-w"
   },
   "outputs": [],
   "source": [
    "import torch\n",
    "from dataset import RTSDataset\n",
    "from transforms import get_transform\n",
    "from utils import collate_fn\n",
    "from model import get_model_instance_segmentation\n",
    "from engine import evaluate, train_one_epoch"
   ]
  },
  {
   "cell_type": "code",
   "execution_count": 5,
   "metadata": {
    "id": "fdUrtBN-b4IA"
   },
   "outputs": [],
   "source": [
    "    # Set device\n",
    "device = torch.device(\"cuda\") if torch.cuda.is_available() else torch.device(\"cpu\")"
   ]
  },
  {
   "cell_type": "code",
   "execution_count": 6,
   "metadata": {},
   "outputs": [],
   "source": [
    "params = {\n",
    "    \"lr\": 0.005,\n",
    "    \"momentum\": 0.9,\n",
    "    \"weight_decay\": 0.0005,\n",
    "    \"step_size\": 3,\n",
    "    \"gamma\": 0.1,\n",
    "    \"epochs\": 1\n",
    "}"
   ]
  },
  {
   "cell_type": "code",
   "execution_count": 7,
   "metadata": {
    "id": "ivUacz8vqkkv"
   },
   "outputs": [],
   "source": [
    "dataset = RTSDataset(\"data/coco_rts_train.json\", get_transform(train=True))\n",
    "dataset_test = RTSDataset(\"data/coco_rts_valtest.json\", get_transform(train=False))\n",
    "\n",
    "# Create data loaders\n",
    "data_loader = torch.utils.data.DataLoader(\n",
    "    dataset, batch_size=2, shuffle=True, collate_fn=collate_fn\n",
    ")\n",
    "data_loader_test = torch.utils.data.DataLoader(\n",
    "    dataset_test, batch_size=1, shuffle=False, collate_fn=collate_fn\n",
    ")\n",
    "\n",
    "# Initialize model\n",
    "model = get_model_instance_segmentation(num_classes=2)\n",
    "model.to(device)\n",
    "\n",
    "# Set up optimizer and learning rate scheduler\n",
    "opt_params = [p for p in model.parameters() if p.requires_grad]\n",
    "optimizer = torch.optim.SGD(opt_params, lr=params[\"lr\"], \n",
    "                            momentum=params[\"momentum\"], \n",
    "                            weight_decay=params[\"weight_decay\"])\n",
    "lr_scheduler = torch.optim.lr_scheduler.StepLR(optimizer, \n",
    "                                               step_size=params[\"step_size\"], \n",
    "                                               gamma=params[\"gamma\"])\n",
    "\n",
    "\n"
   ]
  },
  {
   "cell_type": "code",
   "execution_count": 8,
   "metadata": {
    "colab": {
     "base_uri": "https://localhost:8080/"
    },
    "id": "iGB5zYksttZ_",
    "outputId": "fe7f3fb3-1f31-47b8-b4b9-0cf3b5b1c62c"
   },
   "outputs": [
    {
     "name": "stdout",
     "output_type": "stream",
     "text": [
      "Epoch: [0]  [  0/378]  eta: 0:05:50  lr: 0.000018  loss: 3.3356 (3.3356)  loss_classifier: 0.8176 (0.8176)  loss_box_reg: 0.2335 (0.2335)  loss_mask: 2.1165 (2.1165)  loss_objectness: 0.1543 (0.1543)  loss_rpn_box_reg: 0.0137 (0.0137)  time: 0.9265  data: 0.0113  max mem: 2262\n",
      "Epoch: [0]  [ 10/378]  eta: 0:01:16  lr: 0.000151  loss: 2.9474 (3.0572)  loss_classifier: 0.6870 (0.6476)  loss_box_reg: 0.2335 (0.2357)  loss_mask: 1.8043 (1.8385)  loss_objectness: 0.1745 (0.3095)  loss_rpn_box_reg: 0.0196 (0.0259)  time: 0.2091  data: 0.0091  max mem: 2429\n",
      "Epoch: [0]  [ 20/378]  eta: 0:01:10  lr: 0.000283  loss: 1.9810 (2.3407)  loss_classifier: 0.3381 (0.4379)  loss_box_reg: 0.1316 (0.1871)  loss_mask: 1.0531 (1.4151)  loss_objectness: 0.1299 (0.2728)  loss_rpn_box_reg: 0.0190 (0.0278)  time: 0.1603  data: 0.0296  max mem: 2429\n",
      "Epoch: [0]  [ 30/378]  eta: 0:01:02  lr: 0.000416  loss: 1.2313 (1.9890)  loss_classifier: 0.1994 (0.3629)  loss_box_reg: 0.1324 (0.1877)  loss_mask: 0.6797 (1.1558)  loss_objectness: 0.1102 (0.2536)  loss_rpn_box_reg: 0.0163 (0.0289)  time: 0.1629  data: 0.0336  max mem: 2429\n",
      "Epoch: [0]  [ 40/378]  eta: 0:00:57  lr: 0.000548  loss: 1.1019 (1.7450)  loss_classifier: 0.1916 (0.3174)  loss_box_reg: 0.1503 (0.1826)  loss_mask: 0.5562 (1.0059)  loss_objectness: 0.0890 (0.2141)  loss_rpn_box_reg: 0.0124 (0.0250)  time: 0.1442  data: 0.0213  max mem: 2429\n",
      "Epoch: [0]  [ 50/378]  eta: 0:00:52  lr: 0.000681  loss: 1.0014 (1.6094)  loss_classifier: 0.1681 (0.2944)  loss_box_reg: 0.1511 (0.1840)  loss_mask: 0.5265 (0.9162)  loss_objectness: 0.0796 (0.1896)  loss_rpn_box_reg: 0.0129 (0.0252)  time: 0.1321  data: 0.0169  max mem: 2455\n",
      "Epoch: [0]  [ 60/378]  eta: 0:00:48  lr: 0.000813  loss: 1.0015 (1.5051)  loss_classifier: 0.1764 (0.2749)  loss_box_reg: 0.1718 (0.1834)  loss_mask: 0.5245 (0.8515)  loss_objectness: 0.0796 (0.1714)  loss_rpn_box_reg: 0.0123 (0.0239)  time: 0.1104  data: 0.0079  max mem: 2455\n",
      "Epoch: [0]  [ 70/378]  eta: 0:00:44  lr: 0.000946  loss: 0.9625 (1.4220)  loss_classifier: 0.1684 (0.2564)  loss_box_reg: 0.1718 (0.1780)  loss_mask: 0.5024 (0.8027)  loss_objectness: 0.0575 (0.1607)  loss_rpn_box_reg: 0.0110 (0.0242)  time: 0.1055  data: 0.0077  max mem: 3778\n",
      "Epoch: [0]  [ 80/378]  eta: 0:00:42  lr: 0.001078  loss: 0.8179 (1.3482)  loss_classifier: 0.1352 (0.2405)  loss_box_reg: 0.1223 (0.1707)  loss_mask: 0.5144 (0.7672)  loss_objectness: 0.0498 (0.1473)  loss_rpn_box_reg: 0.0096 (0.0225)  time: 0.1199  data: 0.0147  max mem: 3778\n",
      "Epoch: [0]  [ 90/378]  eta: 0:00:40  lr: 0.001211  loss: 0.8179 (1.3000)  loss_classifier: 0.1334 (0.2300)  loss_box_reg: 0.1266 (0.1673)  loss_mask: 0.5144 (0.7402)  loss_objectness: 0.0436 (0.1402)  loss_rpn_box_reg: 0.0077 (0.0223)  time: 0.1180  data: 0.0144  max mem: 3778\n",
      "Epoch: [0]  [100/378]  eta: 0:00:37  lr: 0.001343  loss: 0.9030 (1.2659)  loss_classifier: 0.1467 (0.2243)  loss_box_reg: 0.1692 (0.1712)  loss_mask: 0.4985 (0.7167)  loss_objectness: 0.0430 (0.1319)  loss_rpn_box_reg: 0.0082 (0.0219)  time: 0.1072  data: 0.0120  max mem: 3778\n",
      "Epoch: [0]  [110/378]  eta: 0:00:35  lr: 0.001476  loss: 0.9603 (1.2446)  loss_classifier: 0.1612 (0.2186)  loss_box_reg: 0.1925 (0.1735)  loss_mask: 0.4884 (0.6965)  loss_objectness: 0.0465 (0.1313)  loss_rpn_box_reg: 0.0080 (0.0246)  time: 0.1101  data: 0.0158  max mem: 3778\n",
      "Epoch: [0]  [120/378]  eta: 0:00:34  lr: 0.001608  loss: 0.8935 (1.2158)  loss_classifier: 0.1535 (0.2122)  loss_box_reg: 0.1925 (0.1728)  loss_mask: 0.4884 (0.6808)  loss_objectness: 0.0550 (0.1264)  loss_rpn_box_reg: 0.0085 (0.0235)  time: 0.1142  data: 0.0198  max mem: 3778\n",
      "Epoch: [0]  [130/378]  eta: 0:00:32  lr: 0.001741  loss: 0.8526 (1.1843)  loss_classifier: 0.1516 (0.2077)  loss_box_reg: 0.1834 (0.1735)  loss_mask: 0.4655 (0.6619)  loss_objectness: 0.0325 (0.1188)  loss_rpn_box_reg: 0.0085 (0.0223)  time: 0.1233  data: 0.0246  max mem: 3778\n",
      "Epoch: [0]  [140/378]  eta: 0:00:31  lr: 0.001873  loss: 0.7584 (1.1577)  loss_classifier: 0.1456 (0.2027)  loss_box_reg: 0.1847 (0.1721)  loss_mask: 0.4262 (0.6474)  loss_objectness: 0.0265 (0.1138)  loss_rpn_box_reg: 0.0080 (0.0216)  time: 0.1242  data: 0.0248  max mem: 3778\n",
      "Epoch: [0]  [150/378]  eta: 0:00:29  lr: 0.002006  loss: 0.8407 (1.1421)  loss_classifier: 0.1416 (0.2015)  loss_box_reg: 0.1847 (0.1753)  loss_mask: 0.4516 (0.6342)  loss_objectness: 0.0330 (0.1096)  loss_rpn_box_reg: 0.0097 (0.0213)  time: 0.1103  data: 0.0164  max mem: 3778\n",
      "Epoch: [0]  [160/378]  eta: 0:00:27  lr: 0.002138  loss: 0.8416 (1.1205)  loss_classifier: 0.1697 (0.1986)  loss_box_reg: 0.2116 (0.1784)  loss_mask: 0.4185 (0.6188)  loss_objectness: 0.0191 (0.1041)  loss_rpn_box_reg: 0.0097 (0.0206)  time: 0.1009  data: 0.0072  max mem: 3778\n",
      "Epoch: [0]  [170/378]  eta: 0:00:26  lr: 0.002271  loss: 0.8130 (1.0998)  loss_classifier: 0.1412 (0.1948)  loss_box_reg: 0.1899 (0.1774)  loss_mask: 0.3972 (0.6062)  loss_objectness: 0.0193 (0.1013)  loss_rpn_box_reg: 0.0075 (0.0200)  time: 0.0984  data: 0.0070  max mem: 3778\n",
      "Epoch: [0]  [180/378]  eta: 0:00:24  lr: 0.002403  loss: 0.6890 (1.0787)  loss_classifier: 0.1105 (0.1903)  loss_box_reg: 0.1289 (0.1753)  loss_mask: 0.4046 (0.5949)  loss_objectness: 0.0339 (0.0984)  loss_rpn_box_reg: 0.0074 (0.0198)  time: 0.1058  data: 0.0087  max mem: 3778\n",
      "Epoch: [0]  [190/378]  eta: 0:00:23  lr: 0.002536  loss: 0.7439 (1.0626)  loss_classifier: 0.0993 (0.1863)  loss_box_reg: 0.1218 (0.1725)  loss_mask: 0.4046 (0.5886)  loss_objectness: 0.0339 (0.0961)  loss_rpn_box_reg: 0.0074 (0.0192)  time: 0.1156  data: 0.0153  max mem: 3778\n",
      "Epoch: [0]  [200/378]  eta: 0:00:22  lr: 0.002668  loss: 0.8314 (1.0555)  loss_classifier: 0.1343 (0.1852)  loss_box_reg: 0.1407 (0.1726)  loss_mask: 0.4519 (0.5851)  loss_objectness: 0.0476 (0.0938)  loss_rpn_box_reg: 0.0108 (0.0189)  time: 0.1226  data: 0.0218  max mem: 3778\n",
      "Epoch: [0]  [210/378]  eta: 0:00:20  lr: 0.002801  loss: 0.9132 (1.0474)  loss_classifier: 0.1732 (0.1847)  loss_box_reg: 0.1730 (0.1731)  loss_mask: 0.4593 (0.5796)  loss_objectness: 0.0476 (0.0913)  loss_rpn_box_reg: 0.0122 (0.0186)  time: 0.1159  data: 0.0169  max mem: 3778\n",
      "Epoch: [0]  [220/378]  eta: 0:00:19  lr: 0.002933  loss: 0.8957 (1.0391)  loss_classifier: 0.1720 (0.1837)  loss_box_reg: 0.1663 (0.1725)  loss_mask: 0.4651 (0.5757)  loss_objectness: 0.0298 (0.0890)  loss_rpn_box_reg: 0.0088 (0.0182)  time: 0.1054  data: 0.0108  max mem: 3778\n",
      "Epoch: [0]  [230/378]  eta: 0:00:18  lr: 0.003066  loss: 0.8448 (1.0320)  loss_classifier: 0.1451 (0.1825)  loss_box_reg: 0.1517 (0.1722)  loss_mask: 0.4751 (0.5722)  loss_objectness: 0.0298 (0.0872)  loss_rpn_box_reg: 0.0063 (0.0179)  time: 0.1040  data: 0.0100  max mem: 3778\n",
      "Epoch: [0]  [240/378]  eta: 0:00:16  lr: 0.003198  loss: 0.8311 (1.0245)  loss_classifier: 0.1388 (0.1814)  loss_box_reg: 0.1491 (0.1730)  loss_mask: 0.4596 (0.5678)  loss_objectness: 0.0278 (0.0847)  loss_rpn_box_reg: 0.0108 (0.0176)  time: 0.1006  data: 0.0082  max mem: 3778\n",
      "Epoch: [0]  [250/378]  eta: 0:00:15  lr: 0.003331  loss: 0.8662 (1.0201)  loss_classifier: 0.1569 (0.1824)  loss_box_reg: 0.2148 (0.1748)  loss_mask: 0.4290 (0.5623)  loss_objectness: 0.0331 (0.0832)  loss_rpn_box_reg: 0.0086 (0.0175)  time: 0.1007  data: 0.0075  max mem: 3778\n",
      "Epoch: [0]  [260/378]  eta: 0:00:14  lr: 0.003463  loss: 0.8459 (1.0140)  loss_classifier: 0.1631 (0.1822)  loss_box_reg: 0.1701 (0.1754)  loss_mask: 0.4198 (0.5573)  loss_objectness: 0.0347 (0.0817)  loss_rpn_box_reg: 0.0077 (0.0173)  time: 0.1153  data: 0.0178  max mem: 3778\n",
      "Epoch: [0]  [270/378]  eta: 0:00:13  lr: 0.003596  loss: 0.8704 (1.0137)  loss_classifier: 0.1803 (0.1834)  loss_box_reg: 0.1701 (0.1780)  loss_mask: 0.4321 (0.5534)  loss_objectness: 0.0347 (0.0815)  loss_rpn_box_reg: 0.0094 (0.0175)  time: 0.1378  data: 0.0292  max mem: 3778\n",
      "Epoch: [0]  [280/378]  eta: 0:00:11  lr: 0.003728  loss: 0.9472 (1.0085)  loss_classifier: 0.1832 (0.1818)  loss_box_reg: 0.1839 (0.1768)  loss_mask: 0.4620 (0.5516)  loss_objectness: 0.0334 (0.0808)  loss_rpn_box_reg: 0.0096 (0.0175)  time: 0.1191  data: 0.0186  max mem: 3778\n",
      "Epoch: [0]  [290/378]  eta: 0:00:10  lr: 0.003861  loss: 0.7411 (0.9990)  loss_classifier: 0.1071 (0.1797)  loss_box_reg: 0.1174 (0.1752)  loss_mask: 0.4332 (0.5472)  loss_objectness: 0.0306 (0.0795)  loss_rpn_box_reg: 0.0096 (0.0174)  time: 0.0999  data: 0.0094  max mem: 3778\n",
      "Epoch: [0]  [300/378]  eta: 0:00:09  lr: 0.003993  loss: 0.7472 (0.9913)  loss_classifier: 0.1191 (0.1781)  loss_box_reg: 0.1174 (0.1743)  loss_mask: 0.4042 (0.5430)  loss_objectness: 0.0344 (0.0786)  loss_rpn_box_reg: 0.0102 (0.0173)  time: 0.1009  data: 0.0096  max mem: 3778\n",
      "Epoch: [0]  [310/378]  eta: 0:00:08  lr: 0.004126  loss: 0.7472 (0.9836)  loss_classifier: 0.1191 (0.1767)  loss_box_reg: 0.1248 (0.1739)  loss_mask: 0.3998 (0.5379)  loss_objectness: 0.0429 (0.0779)  loss_rpn_box_reg: 0.0114 (0.0174)  time: 0.1177  data: 0.0149  max mem: 3778\n",
      "Epoch: [0]  [320/378]  eta: 0:00:06  lr: 0.004258  loss: 0.7829 (0.9787)  loss_classifier: 0.1448 (0.1768)  loss_box_reg: 0.1621 (0.1748)  loss_mask: 0.3687 (0.5332)  loss_objectness: 0.0308 (0.0768)  loss_rpn_box_reg: 0.0142 (0.0172)  time: 0.1275  data: 0.0200  max mem: 3778\n",
      "Epoch: [0]  [330/378]  eta: 0:00:05  lr: 0.004391  loss: 0.7829 (0.9749)  loss_classifier: 0.1634 (0.1772)  loss_box_reg: 0.1621 (0.1757)  loss_mask: 0.3687 (0.5292)  loss_objectness: 0.0338 (0.0757)  loss_rpn_box_reg: 0.0121 (0.0171)  time: 0.1187  data: 0.0189  max mem: 3778\n",
      "Epoch: [0]  [340/378]  eta: 0:00:04  lr: 0.004523  loss: 0.8152 (0.9698)  loss_classifier: 0.1636 (0.1767)  loss_box_reg: 0.1595 (0.1753)  loss_mask: 0.4204 (0.5265)  loss_objectness: 0.0306 (0.0744)  loss_rpn_box_reg: 0.0116 (0.0169)  time: 0.1184  data: 0.0167  max mem: 3778\n",
      "Epoch: [0]  [350/378]  eta: 0:00:03  lr: 0.004656  loss: 0.8152 (0.9676)  loss_classifier: 0.1650 (0.1770)  loss_box_reg: 0.1695 (0.1763)  loss_mask: 0.4245 (0.5238)  loss_objectness: 0.0261 (0.0737)  loss_rpn_box_reg: 0.0109 (0.0169)  time: 0.1079  data: 0.0131  max mem: 3778\n",
      "Epoch: [0]  [360/378]  eta: 0:00:02  lr: 0.004788  loss: 0.8081 (0.9627)  loss_classifier: 0.1556 (0.1765)  loss_box_reg: 0.1695 (0.1763)  loss_mask: 0.4236 (0.5203)  loss_objectness: 0.0382 (0.0727)  loss_rpn_box_reg: 0.0090 (0.0168)  time: 0.1155  data: 0.0215  max mem: 3778\n",
      "Epoch: [0]  [370/378]  eta: 0:00:00  lr: 0.004921  loss: 0.8081 (0.9611)  loss_classifier: 0.1282 (0.1760)  loss_box_reg: 0.1482 (0.1762)  loss_mask: 0.4274 (0.5188)  loss_objectness: 0.0439 (0.0730)  loss_rpn_box_reg: 0.0078 (0.0171)  time: 0.1232  data: 0.0205  max mem: 3778\n",
      "Epoch: [0]  [377/378]  eta: 0:00:00  lr: 0.005000  loss: 0.7583 (0.9577)  loss_classifier: 0.1043 (0.1747)  loss_box_reg: 0.1182 (0.1755)  loss_mask: 0.4393 (0.5172)  loss_objectness: 0.0446 (0.0728)  loss_rpn_box_reg: 0.0078 (0.0174)  time: 0.1249  data: 0.0205  max mem: 3778\n",
      "Epoch: [0] Total time: 0:01:01 (0.1624 s / it)\n",
      "creating index...\n",
      "index created!\n",
      "Test:  [  0/138]  eta: 0:00:20  model_time: 0.1367 (0.1367)  evaluator_time: 0.0107 (0.0107)  time: 0.1495  data: 0.0015  max mem: 3778\n",
      "Test:  [100/138]  eta: 0:00:02  model_time: 0.0453 (0.0532)  evaluator_time: 0.0088 (0.0081)  time: 0.0579  data: 0.0017  max mem: 3778\n",
      "Test:  [137/138]  eta: 0:00:00  model_time: 0.0443 (0.0532)  evaluator_time: 0.0078 (0.0084)  time: 0.0590  data: 0.0016  max mem: 3778\n",
      "Test: Total time: 0:00:09 (0.0701 s / it)\n",
      "Averaged stats: model_time: 0.0443 (0.0532)  evaluator_time: 0.0078 (0.0084)\n",
      "Accumulating evaluation results...\n",
      "DONE (t=0.03s).\n",
      "Accumulating evaluation results...\n",
      "DONE (t=0.03s).\n",
      "IoU metric: bbox\n",
      " Average Precision  (AP) @[ IoU=0.50:0.95 | area=   all | maxDets=100 ] = 0.050\n",
      " Average Precision  (AP) @[ IoU=0.50      | area=   all | maxDets=100 ] = 0.145\n",
      " Average Precision  (AP) @[ IoU=0.75      | area=   all | maxDets=100 ] = 0.022\n",
      " Average Precision  (AP) @[ IoU=0.50:0.95 | area= small | maxDets=100 ] = 0.012\n",
      " Average Precision  (AP) @[ IoU=0.50:0.95 | area=medium | maxDets=100 ] = 0.095\n",
      " Average Precision  (AP) @[ IoU=0.50:0.95 | area= large | maxDets=100 ] = 0.056\n",
      " Average Recall     (AR) @[ IoU=0.50:0.95 | area=   all | maxDets=  1 ] = 0.051\n",
      " Average Recall     (AR) @[ IoU=0.50:0.95 | area=   all | maxDets= 10 ] = 0.192\n",
      " Average Recall     (AR) @[ IoU=0.50:0.95 | area=   all | maxDets=100 ] = 0.258\n",
      " Average Recall     (AR) @[ IoU=0.50:0.95 | area= small | maxDets=100 ] = 0.148\n",
      " Average Recall     (AR) @[ IoU=0.50:0.95 | area=medium | maxDets=100 ] = 0.370\n",
      " Average Recall     (AR) @[ IoU=0.50:0.95 | area= large | maxDets=100 ] = 0.274\n",
      "IoU metric: segm\n",
      " Average Precision  (AP) @[ IoU=0.50:0.95 | area=   all | maxDets=100 ] = 0.037\n",
      " Average Precision  (AP) @[ IoU=0.50      | area=   all | maxDets=100 ] = 0.136\n",
      " Average Precision  (AP) @[ IoU=0.75      | area=   all | maxDets=100 ] = 0.011\n",
      " Average Precision  (AP) @[ IoU=0.50:0.95 | area= small | maxDets=100 ] = 0.006\n",
      " Average Precision  (AP) @[ IoU=0.50:0.95 | area=medium | maxDets=100 ] = 0.071\n",
      " Average Precision  (AP) @[ IoU=0.50:0.95 | area= large | maxDets=100 ] = 0.063\n",
      " Average Recall     (AR) @[ IoU=0.50:0.95 | area=   all | maxDets=  1 ] = 0.038\n",
      " Average Recall     (AR) @[ IoU=0.50:0.95 | area=   all | maxDets= 10 ] = 0.150\n",
      " Average Recall     (AR) @[ IoU=0.50:0.95 | area=   all | maxDets=100 ] = 0.207\n",
      " Average Recall     (AR) @[ IoU=0.50:0.95 | area= small | maxDets=100 ] = 0.106\n",
      " Average Recall     (AR) @[ IoU=0.50:0.95 | area=medium | maxDets=100 ] = 0.301\n",
      " Average Recall     (AR) @[ IoU=0.50:0.95 | area= large | maxDets=100 ] = 0.289\n",
      "Epoch: [1]  [  0/378]  eta: 0:02:35  lr: 0.005000  loss: 0.6369 (0.6369)  loss_classifier: 0.0698 (0.0698)  loss_box_reg: 0.0583 (0.0583)  loss_mask: 0.4312 (0.4312)  loss_objectness: 0.0697 (0.0697)  loss_rpn_box_reg: 0.0079 (0.0079)  time: 0.4126  data: 0.2339  max mem: 3778\n",
      "Epoch: [1]  [ 10/378]  eta: 0:00:45  lr: 0.005000  loss: 0.7523 (0.7866)  loss_classifier: 0.1222 (0.1280)  loss_box_reg: 0.1280 (0.1430)  loss_mask: 0.4312 (0.4493)  loss_objectness: 0.0420 (0.0468)  loss_rpn_box_reg: 0.0128 (0.0194)  time: 0.1241  data: 0.0250  max mem: 3778\n",
      "Epoch: [1]  [ 20/378]  eta: 0:00:43  lr: 0.005000  loss: 0.7413 (0.7728)  loss_classifier: 0.1347 (0.1384)  loss_box_reg: 0.1487 (0.1535)  loss_mask: 0.4257 (0.4314)  loss_objectness: 0.0302 (0.0347)  loss_rpn_box_reg: 0.0105 (0.0147)  time: 0.1078  data: 0.0048  max mem: 3778\n",
      "Epoch: [1]  [ 30/378]  eta: 0:00:39  lr: 0.005000  loss: 0.7609 (0.7981)  loss_classifier: 0.1471 (0.1448)  loss_box_reg: 0.1704 (0.1661)  loss_mask: 0.4037 (0.4270)  loss_objectness: 0.0259 (0.0414)  loss_rpn_box_reg: 0.0062 (0.0188)  time: 0.1096  data: 0.0054  max mem: 3778\n",
      "Epoch: [1]  [ 40/378]  eta: 0:00:37  lr: 0.005000  loss: 0.7690 (0.8008)  loss_classifier: 0.1558 (0.1505)  loss_box_reg: 0.1704 (0.1704)  loss_mask: 0.4184 (0.4267)  loss_objectness: 0.0245 (0.0372)  loss_rpn_box_reg: 0.0071 (0.0160)  time: 0.0964  data: 0.0049  max mem: 3778\n",
      "Epoch: [1]  [ 50/378]  eta: 0:00:36  lr: 0.005000  loss: 0.7857 (0.8084)  loss_classifier: 0.1558 (0.1554)  loss_box_reg: 0.1677 (0.1733)  loss_mask: 0.4130 (0.4254)  loss_objectness: 0.0230 (0.0383)  loss_rpn_box_reg: 0.0095 (0.0159)  time: 0.1043  data: 0.0111  max mem: 3778\n",
      "Epoch: [1]  [ 60/378]  eta: 0:00:34  lr: 0.005000  loss: 0.7904 (0.8172)  loss_classifier: 0.1417 (0.1579)  loss_box_reg: 0.1602 (0.1763)  loss_mask: 0.4244 (0.4285)  loss_objectness: 0.0434 (0.0391)  loss_rpn_box_reg: 0.0110 (0.0153)  time: 0.1062  data: 0.0110  max mem: 3778\n",
      "Epoch: [1]  [ 70/378]  eta: 0:00:33  lr: 0.005000  loss: 0.8281 (0.8263)  loss_classifier: 0.1393 (0.1600)  loss_box_reg: 0.1573 (0.1810)  loss_mask: 0.4488 (0.4309)  loss_objectness: 0.0388 (0.0400)  loss_rpn_box_reg: 0.0089 (0.0144)  time: 0.1031  data: 0.0047  max mem: 3778\n",
      "Epoch: [1]  [ 80/378]  eta: 0:00:32  lr: 0.005000  loss: 0.8281 (0.8357)  loss_classifier: 0.1458 (0.1583)  loss_box_reg: 0.1573 (0.1777)  loss_mask: 0.4556 (0.4449)  loss_objectness: 0.0359 (0.0407)  loss_rpn_box_reg: 0.0103 (0.0140)  time: 0.1049  data: 0.0093  max mem: 3778\n",
      "Epoch: [1]  [ 90/378]  eta: 0:00:31  lr: 0.005000  loss: 0.8432 (0.8350)  loss_classifier: 0.1547 (0.1588)  loss_box_reg: 0.1543 (0.1761)  loss_mask: 0.4750 (0.4459)  loss_objectness: 0.0350 (0.0405)  loss_rpn_box_reg: 0.0086 (0.0136)  time: 0.1053  data: 0.0154  max mem: 3778\n",
      "Epoch: [1]  [100/378]  eta: 0:00:30  lr: 0.005000  loss: 0.8432 (0.8456)  loss_classifier: 0.1676 (0.1628)  loss_box_reg: 0.1774 (0.1800)  loss_mask: 0.4405 (0.4482)  loss_objectness: 0.0367 (0.0409)  loss_rpn_box_reg: 0.0086 (0.0137)  time: 0.1117  data: 0.0162  max mem: 3778\n",
      "Epoch: [1]  [110/378]  eta: 0:00:28  lr: 0.005000  loss: 0.8321 (0.8396)  loss_classifier: 0.1627 (0.1616)  loss_box_reg: 0.1787 (0.1766)  loss_mask: 0.4302 (0.4460)  loss_objectness: 0.0389 (0.0418)  loss_rpn_box_reg: 0.0083 (0.0136)  time: 0.1051  data: 0.0111  max mem: 3778\n",
      "Epoch: [1]  [120/378]  eta: 0:00:28  lr: 0.005000  loss: 0.7715 (0.8445)  loss_classifier: 0.1423 (0.1622)  loss_box_reg: 0.1426 (0.1782)  loss_mask: 0.4302 (0.4460)  loss_objectness: 0.0412 (0.0431)  loss_rpn_box_reg: 0.0095 (0.0150)  time: 0.1150  data: 0.0210  max mem: 3778\n",
      "Epoch: [1]  [130/378]  eta: 0:00:26  lr: 0.005000  loss: 0.8470 (0.8441)  loss_classifier: 0.1428 (0.1616)  loss_box_reg: 0.1445 (0.1781)  loss_mask: 0.4253 (0.4454)  loss_objectness: 0.0424 (0.0432)  loss_rpn_box_reg: 0.0154 (0.0158)  time: 0.1151  data: 0.0199  max mem: 3778\n",
      "Epoch: [1]  [140/378]  eta: 0:00:25  lr: 0.005000  loss: 0.8435 (0.8478)  loss_classifier: 0.1609 (0.1631)  loss_box_reg: 0.1782 (0.1805)  loss_mask: 0.4171 (0.4445)  loss_objectness: 0.0380 (0.0438)  loss_rpn_box_reg: 0.0154 (0.0160)  time: 0.1018  data: 0.0053  max mem: 3778\n",
      "Epoch: [1]  [150/378]  eta: 0:00:24  lr: 0.005000  loss: 0.7886 (0.8412)  loss_classifier: 0.1386 (0.1609)  loss_box_reg: 0.1701 (0.1783)  loss_mask: 0.4132 (0.4434)  loss_objectness: 0.0376 (0.0429)  loss_rpn_box_reg: 0.0109 (0.0157)  time: 0.1127  data: 0.0113  max mem: 3778\n",
      "Epoch: [1]  [160/378]  eta: 0:00:23  lr: 0.005000  loss: 0.7100 (0.8355)  loss_classifier: 0.1308 (0.1602)  loss_box_reg: 0.1213 (0.1771)  loss_mask: 0.3982 (0.4398)  loss_objectness: 0.0254 (0.0427)  loss_rpn_box_reg: 0.0061 (0.0156)  time: 0.1084  data: 0.0108  max mem: 3778\n",
      "Epoch: [1]  [170/378]  eta: 0:00:22  lr: 0.005000  loss: 0.7665 (0.8375)  loss_classifier: 0.1454 (0.1616)  loss_box_reg: 0.1658 (0.1789)  loss_mask: 0.3982 (0.4384)  loss_objectness: 0.0319 (0.0429)  loss_rpn_box_reg: 0.0118 (0.0156)  time: 0.1086  data: 0.0103  max mem: 3778\n",
      "Epoch: [1]  [180/378]  eta: 0:00:21  lr: 0.005000  loss: 0.8633 (0.8386)  loss_classifier: 0.1820 (0.1624)  loss_box_reg: 0.1906 (0.1797)  loss_mask: 0.3834 (0.4345)  loss_objectness: 0.0503 (0.0454)  loss_rpn_box_reg: 0.0157 (0.0166)  time: 0.1164  data: 0.0115  max mem: 3778\n",
      "Epoch: [1]  [190/378]  eta: 0:00:20  lr: 0.005000  loss: 0.8633 (0.8362)  loss_classifier: 0.1489 (0.1609)  loss_box_reg: 0.2027 (0.1802)  loss_mask: 0.3785 (0.4332)  loss_objectness: 0.0490 (0.0452)  loss_rpn_box_reg: 0.0101 (0.0166)  time: 0.1085  data: 0.0060  max mem: 3778\n",
      "Epoch: [1]  [200/378]  eta: 0:00:19  lr: 0.005000  loss: 0.8097 (0.8322)  loss_classifier: 0.1485 (0.1597)  loss_box_reg: 0.1696 (0.1789)  loss_mask: 0.3862 (0.4312)  loss_objectness: 0.0290 (0.0458)  loss_rpn_box_reg: 0.0085 (0.0166)  time: 0.1014  data: 0.0048  max mem: 3778\n",
      "Epoch: [1]  [210/378]  eta: 0:00:18  lr: 0.005000  loss: 0.7240 (0.8301)  loss_classifier: 0.1550 (0.1593)  loss_box_reg: 0.1397 (0.1778)  loss_mask: 0.3948 (0.4312)  loss_objectness: 0.0326 (0.0455)  loss_rpn_box_reg: 0.0057 (0.0163)  time: 0.0991  data: 0.0048  max mem: 3778\n",
      "Epoch: [1]  [220/378]  eta: 0:00:23  lr: 0.005000  loss: 0.7377 (0.8289)  loss_classifier: 0.1545 (0.1592)  loss_box_reg: 0.1677 (0.1782)  loss_mask: 0.4044 (0.4304)  loss_objectness: 0.0367 (0.0451)  loss_rpn_box_reg: 0.0065 (0.0160)  time: 0.5725  data: 0.4785  max mem: 3778\n",
      "Epoch: [1]  [230/378]  eta: 0:00:21  lr: 0.005000  loss: 0.8167 (0.8295)  loss_classifier: 0.1545 (0.1592)  loss_box_reg: 0.1710 (0.1778)  loss_mask: 0.4112 (0.4315)  loss_objectness: 0.0390 (0.0452)  loss_rpn_box_reg: 0.0091 (0.0158)  time: 0.5709  data: 0.4783  max mem: 3778\n",
      "Epoch: [1]  [240/378]  eta: 0:00:20  lr: 0.005000  loss: 0.8478 (0.8278)  loss_classifier: 0.1381 (0.1583)  loss_box_reg: 0.1454 (0.1768)  loss_mask: 0.4255 (0.4309)  loss_objectness: 0.0367 (0.0458)  loss_rpn_box_reg: 0.0121 (0.0160)  time: 0.0950  data: 0.0041  max mem: 3778\n",
      "Epoch: [1]  [250/378]  eta: 0:00:18  lr: 0.005000  loss: 0.6993 (0.8218)  loss_classifier: 0.0990 (0.1557)  loss_box_reg: 0.1063 (0.1738)  loss_mask: 0.4070 (0.4298)  loss_objectness: 0.0351 (0.0458)  loss_rpn_box_reg: 0.0088 (0.0167)  time: 0.1044  data: 0.0118  max mem: 3778\n",
      "Epoch: [1]  [260/378]  eta: 0:00:16  lr: 0.005000  loss: 0.6993 (0.8197)  loss_classifier: 0.1007 (0.1546)  loss_box_reg: 0.1065 (0.1727)  loss_mask: 0.3953 (0.4295)  loss_objectness: 0.0357 (0.0461)  loss_rpn_box_reg: 0.0088 (0.0169)  time: 0.1052  data: 0.0130  max mem: 3778\n",
      "Epoch: [1]  [270/378]  eta: 0:00:15  lr: 0.005000  loss: 0.7450 (0.8174)  loss_classifier: 0.1300 (0.1540)  loss_box_reg: 0.1407 (0.1728)  loss_mask: 0.3908 (0.4280)  loss_objectness: 0.0372 (0.0460)  loss_rpn_box_reg: 0.0092 (0.0167)  time: 0.0952  data: 0.0052  max mem: 3778\n",
      "Epoch: [1]  [280/378]  eta: 0:00:13  lr: 0.005000  loss: 0.7386 (0.8175)  loss_classifier: 0.1513 (0.1546)  loss_box_reg: 0.1631 (0.1733)  loss_mask: 0.3852 (0.4271)  loss_objectness: 0.0315 (0.0456)  loss_rpn_box_reg: 0.0103 (0.0169)  time: 0.1107  data: 0.0107  max mem: 3778\n",
      "Epoch: [1]  [290/378]  eta: 0:00:12  lr: 0.005000  loss: 0.7358 (0.8141)  loss_classifier: 0.1309 (0.1536)  loss_box_reg: 0.1404 (0.1714)  loss_mask: 0.3989 (0.4275)  loss_objectness: 0.0305 (0.0451)  loss_rpn_box_reg: 0.0081 (0.0165)  time: 0.1105  data: 0.0104  max mem: 3778\n",
      "Epoch: [1]  [300/378]  eta: 0:00:10  lr: 0.005000  loss: 0.7602 (0.8151)  loss_classifier: 0.1309 (0.1544)  loss_box_reg: 0.1425 (0.1725)  loss_mask: 0.4136 (0.4269)  loss_objectness: 0.0312 (0.0449)  loss_rpn_box_reg: 0.0081 (0.0164)  time: 0.0947  data: 0.0040  max mem: 3778\n",
      "Epoch: [1]  [310/378]  eta: 0:00:09  lr: 0.005000  loss: 0.7951 (0.8159)  loss_classifier: 0.1652 (0.1544)  loss_box_reg: 0.1862 (0.1719)  loss_mask: 0.4023 (0.4265)  loss_objectness: 0.0413 (0.0462)  loss_rpn_box_reg: 0.0107 (0.0168)  time: 0.0956  data: 0.0043  max mem: 3778\n",
      "Epoch: [1]  [320/378]  eta: 0:00:07  lr: 0.005000  loss: 0.7340 (0.8122)  loss_classifier: 0.1285 (0.1535)  loss_box_reg: 0.1445 (0.1706)  loss_mask: 0.3925 (0.4257)  loss_objectness: 0.0311 (0.0458)  loss_rpn_box_reg: 0.0106 (0.0166)  time: 0.0998  data: 0.0062  max mem: 3778\n",
      "Epoch: [1]  [330/378]  eta: 0:00:06  lr: 0.005000  loss: 0.7564 (0.8107)  loss_classifier: 0.1289 (0.1536)  loss_box_reg: 0.1445 (0.1709)  loss_mask: 0.3969 (0.4246)  loss_objectness: 0.0275 (0.0453)  loss_rpn_box_reg: 0.0075 (0.0164)  time: 0.1008  data: 0.0067  max mem: 3778\n",
      "Epoch: [1]  [340/378]  eta: 0:00:05  lr: 0.005000  loss: 0.6789 (0.8061)  loss_classifier: 0.1504 (0.1530)  loss_box_reg: 0.1401 (0.1696)  loss_mask: 0.3505 (0.4226)  loss_objectness: 0.0255 (0.0448)  loss_rpn_box_reg: 0.0084 (0.0161)  time: 0.0987  data: 0.0058  max mem: 3778\n",
      "Epoch: [1]  [350/378]  eta: 0:00:03  lr: 0.005000  loss: 0.6836 (0.8052)  loss_classifier: 0.1331 (0.1527)  loss_box_reg: 0.1294 (0.1693)  loss_mask: 0.3657 (0.4222)  loss_objectness: 0.0293 (0.0447)  loss_rpn_box_reg: 0.0105 (0.0163)  time: 0.1192  data: 0.0191  max mem: 3778\n",
      "Epoch: [1]  [360/378]  eta: 0:00:02  lr: 0.005000  loss: 0.7453 (0.8027)  loss_classifier: 0.1389 (0.1526)  loss_box_reg: 0.1365 (0.1688)  loss_mask: 0.3699 (0.4212)  loss_objectness: 0.0277 (0.0440)  loss_rpn_box_reg: 0.0101 (0.0161)  time: 0.1216  data: 0.0208  max mem: 3778\n",
      "Epoch: [1]  [370/378]  eta: 0:00:01  lr: 0.005000  loss: 0.7453 (0.8026)  loss_classifier: 0.1482 (0.1526)  loss_box_reg: 0.1389 (0.1690)  loss_mask: 0.3774 (0.4210)  loss_objectness: 0.0247 (0.0439)  loss_rpn_box_reg: 0.0086 (0.0161)  time: 0.1181  data: 0.0195  max mem: 3778\n",
      "Epoch: [1]  [377/378]  eta: 0:00:00  lr: 0.005000  loss: 0.7611 (0.8026)  loss_classifier: 0.1631 (0.1530)  loss_box_reg: 0.1807 (0.1691)  loss_mask: 0.3870 (0.4208)  loss_objectness: 0.0247 (0.0437)  loss_rpn_box_reg: 0.0097 (0.0160)  time: 0.1243  data: 0.0206  max mem: 3778\n",
      "Epoch: [1] Total time: 0:01:02 (0.1641 s / it)\n",
      "creating index...\n",
      "index created!\n",
      "Test:  [  0/138]  eta: 0:00:07  model_time: 0.0492 (0.0492)  evaluator_time: 0.0061 (0.0061)  time: 0.0575  data: 0.0015  max mem: 3778\n",
      "Test:  [100/138]  eta: 0:00:02  model_time: 0.0482 (0.0467)  evaluator_time: 0.0088 (0.0071)  time: 0.0616  data: 0.0016  max mem: 3778\n",
      "Test:  [137/138]  eta: 0:00:00  model_time: 0.0508 (0.0472)  evaluator_time: 0.0092 (0.0076)  time: 0.0606  data: 0.0015  max mem: 3778\n",
      "Test: Total time: 0:00:08 (0.0632 s / it)\n",
      "Averaged stats: model_time: 0.0508 (0.0472)  evaluator_time: 0.0092 (0.0076)\n",
      "Accumulating evaluation results...\n",
      "DONE (t=0.03s).\n",
      "Accumulating evaluation results...\n",
      "DONE (t=0.03s).\n",
      "IoU metric: bbox\n",
      " Average Precision  (AP) @[ IoU=0.50:0.95 | area=   all | maxDets=100 ] = 0.075\n",
      " Average Precision  (AP) @[ IoU=0.50      | area=   all | maxDets=100 ] = 0.174\n",
      " Average Precision  (AP) @[ IoU=0.75      | area=   all | maxDets=100 ] = 0.057\n",
      " Average Precision  (AP) @[ IoU=0.50:0.95 | area= small | maxDets=100 ] = 0.039\n",
      " Average Precision  (AP) @[ IoU=0.50:0.95 | area=medium | maxDets=100 ] = 0.119\n",
      " Average Precision  (AP) @[ IoU=0.50:0.95 | area= large | maxDets=100 ] = 0.124\n",
      " Average Recall     (AR) @[ IoU=0.50:0.95 | area=   all | maxDets=  1 ] = 0.085\n",
      " Average Recall     (AR) @[ IoU=0.50:0.95 | area=   all | maxDets= 10 ] = 0.237\n",
      " Average Recall     (AR) @[ IoU=0.50:0.95 | area=   all | maxDets=100 ] = 0.327\n",
      " Average Recall     (AR) @[ IoU=0.50:0.95 | area= small | maxDets=100 ] = 0.226\n",
      " Average Recall     (AR) @[ IoU=0.50:0.95 | area=medium | maxDets=100 ] = 0.437\n",
      " Average Recall     (AR) @[ IoU=0.50:0.95 | area= large | maxDets=100 ] = 0.284\n",
      "IoU metric: segm\n",
      " Average Precision  (AP) @[ IoU=0.50:0.95 | area=   all | maxDets=100 ] = 0.062\n",
      " Average Precision  (AP) @[ IoU=0.50      | area=   all | maxDets=100 ] = 0.171\n",
      " Average Precision  (AP) @[ IoU=0.75      | area=   all | maxDets=100 ] = 0.034\n",
      " Average Precision  (AP) @[ IoU=0.50:0.95 | area= small | maxDets=100 ] = 0.020\n",
      " Average Precision  (AP) @[ IoU=0.50:0.95 | area=medium | maxDets=100 ] = 0.089\n",
      " Average Precision  (AP) @[ IoU=0.50:0.95 | area= large | maxDets=100 ] = 0.182\n",
      " Average Recall     (AR) @[ IoU=0.50:0.95 | area=   all | maxDets=  1 ] = 0.068\n",
      " Average Recall     (AR) @[ IoU=0.50:0.95 | area=   all | maxDets= 10 ] = 0.212\n",
      " Average Recall     (AR) @[ IoU=0.50:0.95 | area=   all | maxDets=100 ] = 0.283\n",
      " Average Recall     (AR) @[ IoU=0.50:0.95 | area= small | maxDets=100 ] = 0.183\n",
      " Average Recall     (AR) @[ IoU=0.50:0.95 | area=medium | maxDets=100 ] = 0.379\n",
      " Average Recall     (AR) @[ IoU=0.50:0.95 | area= large | maxDets=100 ] = 0.342\n",
      "lr: 0.005000  loss: 0.7611 (0.8026)  loss_classifier: 0.1631 (0.1530)  loss_box_reg: 0.1807 (0.1691)  loss_mask: 0.3870 (0.4208)  loss_objectness: 0.0247 (0.0437)  loss_rpn_box_reg: 0.0097 (0.0160)\n"
     ]
    },
    {
     "name": "stderr",
     "output_type": "stream",
     "text": [
      "2024/10/20 03:50:02 WARNING mlflow.models.model: Model logged without a signature and input example. Please set `input_example` parameter when logging the model to auto infer the model signature.\n",
      "2024/10/20 03:50:11 INFO mlflow.tracking._tracking_service.client: 🏃 View run upset-squid-715 at: https://pdg.mflow.software.ncsa.illinois.edu/#/experiments/0/runs/75ca418026b641c389f37f50e7ce91ac.\n",
      "2024/10/20 03:50:11 INFO mlflow.tracking._tracking_service.client: 🧪 View experiment at: https://pdg.mflow.software.ncsa.illinois.edu/#/experiments/0.\n"
     ]
    }
   ],
   "source": [
    "import mlflow\n",
    "\n",
    "with mlflow.start_run() as run:\n",
    "    # Log the hyperparameters\n",
    "    mlflow.log_params(params)\n",
    "    mlflow.pytorch.autolog()\n",
    "    # Training loop\n",
    "    num_epochs = 2\n",
    "    for epoch in range(num_epochs):\n",
    "        metrics = train_one_epoch(model, \n",
    "                                  optimizer, \n",
    "                                  data_loader, \n",
    "                                  device, \n",
    "                                  epoch, \n",
    "                                  print_freq=10,\n",
    "                                  run=run)\n",
    "        lr_scheduler.step()\n",
    "        evaluate(model, data_loader_test, device=device)\n",
    "    print(metrics)\n",
    "        \n",
    "    mlflow.pytorch.log_model(model, \"model\")\n"
   ]
  },
  {
   "cell_type": "code",
   "execution_count": null,
   "metadata": {},
   "outputs": [],
   "source": []
  }
 ],
 "metadata": {
  "accelerator": "GPU",
  "colab": {
   "gpuType": "T4",
   "provenance": []
  },
  "kernelspec": {
   "display_name": "Python 3 (ipykernel)",
   "language": "python",
   "name": "python3"
  },
  "language_info": {
   "codemirror_mode": {
    "name": "ipython",
    "version": 3
   },
   "file_extension": ".py",
   "mimetype": "text/x-python",
   "name": "python",
   "nbconvert_exporter": "python",
   "pygments_lexer": "ipython3",
   "version": "3.11.6"
  }
 },
 "nbformat": 4,
 "nbformat_minor": 4
}
