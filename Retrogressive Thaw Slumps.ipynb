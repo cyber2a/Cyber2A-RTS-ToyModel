{
  "nbformat": 4,
  "nbformat_minor": 0,
  "metadata": {
    "colab": {
      "provenance": [],
      "gpuType": "T4"
    },
    "kernelspec": {
      "name": "python3",
      "display_name": "Python 3"
    },
    "language_info": {
      "name": "python"
    },
    "accelerator": "GPU"
  },
  "cells": [
    {
      "cell_type": "code",
      "source": [
        "!pip install mlflow-skinny"
      ],
      "metadata": {
        "id": "EbZ09Vq3b-Lh"
      },
      "execution_count": null,
      "outputs": []
    },
    {
      "cell_type": "code",
      "source": [
        "from google.colab import drive\n",
        "drive.mount('/content/gdrive')\n"
      ],
      "metadata": {
        "colab": {
          "base_uri": "https://localhost:8080/"
        },
        "id": "ksGXOmNNoeci",
        "outputId": "49fdf879-6b89-4fb5-c202-9a22efd878f3"
      },
      "execution_count": 3,
      "outputs": [
        {
          "output_type": "stream",
          "name": "stdout",
          "text": [
            "Mounted at /content/gdrive\n"
          ]
        }
      ]
    },
    {
      "cell_type": "code",
      "source": [
        "%cd /content/gdrive/MyDrive/cyber2a\n",
        "!git clone https://github.com/cyber2a/Cyber2A-RTS-ToyModel.git"
      ],
      "metadata": {
        "colab": {
          "base_uri": "https://localhost:8080/"
        },
        "id": "sHlSpCK0o78y",
        "outputId": "98ba6da1-1254-4d3a-d9e6-b356f04d8f66"
      },
      "execution_count": 12,
      "outputs": [
        {
          "output_type": "stream",
          "name": "stdout",
          "text": [
            "/content/gdrive/MyDrive/cyber2a\n"
          ]
        }
      ]
    },
    {
      "cell_type": "code",
      "source": [
        "%cd /content/gdrive/MyDrive/cyber2a/Cyber2A-RTS-ToyModel"
      ],
      "metadata": {
        "colab": {
          "base_uri": "https://localhost:8080/"
        },
        "id": "F3SM1omUsuqP",
        "outputId": "dcbb243f-6689-414e-f987-6feea1e96ccc"
      },
      "execution_count": 20,
      "outputs": [
        {
          "output_type": "stream",
          "name": "stdout",
          "text": [
            "/content/gdrive/MyDrive/cyber2a/Cyber2A-RTS-ToyModel\n"
          ]
        }
      ]
    },
    {
      "cell_type": "markdown",
      "source": [],
      "metadata": {
        "id": "m_VqJN_ws0AK"
      }
    },
    {
      "cell_type": "code",
      "source": [
        "import sys\n",
        "sys.path.append(\"//content/gdrive/MyDrive/cyber2a/Cyber2A-RTS-ToyModel/toy_model\")\n",
        "\n"
      ],
      "metadata": {
        "id": "CJwhcR1hp41n"
      },
      "execution_count": 14,
      "outputs": []
    },
    {
      "cell_type": "code",
      "execution_count": 31,
      "metadata": {
        "id": "xTcc_EsTaf-w"
      },
      "outputs": [],
      "source": [
        "import torch\n",
        "from dataset import RTSDataset\n",
        "from transforms import get_transform\n",
        "from utils import collate_fn\n",
        "from model import get_model_instance_segmentation\n",
        "from engine import evaluate, train_one_epoch"
      ]
    },
    {
      "cell_type": "code",
      "source": [
        "    # Set device\n",
        "device = torch.device(\"cuda\") if torch.cuda.is_available() else torch.device(\"cpu\")"
      ],
      "metadata": {
        "id": "fdUrtBN-b4IA"
      },
      "execution_count": 24,
      "outputs": []
    },
    {
      "cell_type": "code",
      "source": [
        "dataset = RTSDataset(\"data/coco_rts_train.json\", get_transform(train=True))\n",
        "dataset_test = RTSDataset(\"data/coco_rts_valtest.json\", get_transform(train=False))\n",
        "\n",
        "# Create data loaders\n",
        "data_loader = torch.utils.data.DataLoader(\n",
        "    dataset, batch_size=2, shuffle=True, collate_fn=collate_fn\n",
        ")\n",
        "data_loader_test = torch.utils.data.DataLoader(\n",
        "    dataset_test, batch_size=1, shuffle=False, collate_fn=collate_fn\n",
        ")\n",
        "\n",
        "# Initialize model\n",
        "model = get_model_instance_segmentation(num_classes=2)\n",
        "model.to(device)\n",
        "\n",
        "# Set up optimizer and learning rate scheduler\n",
        "params = [p for p in model.parameters() if p.requires_grad]\n",
        "optimizer = torch.optim.SGD(params, lr=0.005, momentum=0.9, weight_decay=0.0005)\n",
        "lr_scheduler = torch.optim.lr_scheduler.StepLR(optimizer, step_size=3, gamma=0.1)\n",
        "\n",
        "\n"
      ],
      "metadata": {
        "id": "ivUacz8vqkkv"
      },
      "execution_count": 30,
      "outputs": []
    },
    {
      "cell_type": "code",
      "source": [
        "# Training loop\n",
        "num_epochs = 2\n",
        "for epoch in range(num_epochs):\n",
        "    train_one_epoch(model, optimizer, data_loader, device, epoch, print_freq=10)\n",
        "    lr_scheduler.step()\n",
        "    evaluate(model, data_loader_test, device=device)\n"
      ],
      "metadata": {
        "colab": {
          "base_uri": "https://localhost:8080/"
        },
        "id": "iGB5zYksttZ_",
        "outputId": "fe7f3fb3-1f31-47b8-b4b9-0cf3b5b1c62c"
      },
      "execution_count": 32,
      "outputs": [
        {
          "output_type": "stream",
          "name": "stderr",
          "text": [
            "//content/gdrive/MyDrive/cyber2a/Cyber2A-RTS-ToyModel/toy_model/engine.py:39: FutureWarning: `torch.cuda.amp.autocast(args...)` is deprecated. Please use `torch.amp.autocast('cuda', args...)` instead.\n",
            "  with torch.cuda.amp.autocast(enabled=scaler is not None):\n"
          ]
        },
        {
          "output_type": "stream",
          "name": "stdout",
          "text": [
            "Epoch: [0]  [  0/378]  eta: 0:20:06  lr: 0.000018  loss: 4.9414 (4.9414)  loss_classifier: 0.9866 (0.9866)  loss_box_reg: 0.1537 (0.1537)  loss_mask: 3.0828 (3.0828)  loss_objectness: 0.7001 (0.7001)  loss_rpn_box_reg: 0.0183 (0.0183)  time: 3.1911  data: 0.0696  max mem: 2430\n",
            "Epoch: [0]  [ 10/378]  eta: 0:05:10  lr: 0.000151  loss: 3.0224 (3.4364)  loss_classifier: 0.8652 (0.7522)  loss_box_reg: 0.1537 (0.1615)  loss_mask: 1.8044 (2.1947)  loss_objectness: 0.1597 (0.3090)  loss_rpn_box_reg: 0.0124 (0.0191)  time: 0.8435  data: 0.0199  max mem: 4503\n",
            "Epoch: [0]  [ 20/378]  eta: 0:04:19  lr: 0.000283  loss: 1.7815 (2.5181)  loss_classifier: 0.3309 (0.4947)  loss_box_reg: 0.1492 (0.1597)  loss_mask: 1.0324 (1.5549)  loss_objectness: 0.1540 (0.2841)  loss_rpn_box_reg: 0.0151 (0.0248)  time: 0.6007  data: 0.0146  max mem: 4503\n",
            "Epoch: [0]  [ 30/378]  eta: 0:03:58  lr: 0.000416  loss: 1.1528 (2.0450)  loss_classifier: 0.1703 (0.3865)  loss_box_reg: 0.1474 (0.1511)  loss_mask: 0.7118 (1.2646)  loss_objectness: 0.1086 (0.2228)  loss_rpn_box_reg: 0.0125 (0.0200)  time: 0.5990  data: 0.0132  max mem: 4503\n",
            "Epoch: [0]  [ 40/378]  eta: 0:03:45  lr: 0.000548  loss: 1.0698 (1.8206)  loss_classifier: 0.1703 (0.3438)  loss_box_reg: 0.1311 (0.1659)  loss_mask: 0.6239 (1.1069)  loss_objectness: 0.0464 (0.1843)  loss_rpn_box_reg: 0.0100 (0.0198)  time: 0.6088  data: 0.0128  max mem: 4503\n",
            "Epoch: [0]  [ 50/378]  eta: 0:03:34  lr: 0.000681  loss: 1.0140 (1.6594)  loss_classifier: 0.1764 (0.3092)  loss_box_reg: 0.1735 (0.1672)  loss_mask: 0.5778 (1.0020)  loss_objectness: 0.0448 (0.1618)  loss_rpn_box_reg: 0.0136 (0.0191)  time: 0.6012  data: 0.0143  max mem: 4503\n",
            "Epoch: [0]  [ 60/378]  eta: 0:03:26  lr: 0.000813  loss: 0.9890 (1.5673)  loss_classifier: 0.1776 (0.2936)  loss_box_reg: 0.1889 (0.1788)  loss_mask: 0.5544 (0.9264)  loss_objectness: 0.0539 (0.1492)  loss_rpn_box_reg: 0.0139 (0.0193)  time: 0.6139  data: 0.0149  max mem: 4503\n",
            "Epoch: [0]  [ 70/378]  eta: 0:03:18  lr: 0.000946  loss: 0.9890 (1.4881)  loss_classifier: 0.1862 (0.2762)  loss_box_reg: 0.1963 (0.1782)  loss_mask: 0.5146 (0.8712)  loss_objectness: 0.0584 (0.1429)  loss_rpn_box_reg: 0.0106 (0.0195)  time: 0.6278  data: 0.0136  max mem: 4503\n",
            "Epoch: [0]  [ 80/378]  eta: 0:03:11  lr: 0.001078  loss: 0.9327 (1.4241)  loss_classifier: 0.1437 (0.2598)  loss_box_reg: 0.1362 (0.1735)  loss_mask: 0.5044 (0.8258)  loss_objectness: 0.0596 (0.1420)  loss_rpn_box_reg: 0.0101 (0.0230)  time: 0.6164  data: 0.0129  max mem: 4503\n",
            "Epoch: [0]  [ 90/378]  eta: 0:03:04  lr: 0.001211  loss: 0.8364 (1.3577)  loss_classifier: 0.1132 (0.2433)  loss_box_reg: 0.1131 (0.1693)  loss_mask: 0.4806 (0.7886)  loss_objectness: 0.0632 (0.1347)  loss_rpn_box_reg: 0.0079 (0.0219)  time: 0.6250  data: 0.0141  max mem: 4503\n",
            "Epoch: [0]  [100/378]  eta: 0:02:57  lr: 0.001343  loss: 0.8364 (1.3186)  loss_classifier: 0.1188 (0.2348)  loss_box_reg: 0.1289 (0.1698)  loss_mask: 0.4853 (0.7609)  loss_objectness: 0.0548 (0.1304)  loss_rpn_box_reg: 0.0075 (0.0227)  time: 0.6317  data: 0.0142  max mem: 4503\n",
            "Epoch: [0]  [110/378]  eta: 0:02:51  lr: 0.001476  loss: 0.9008 (1.2866)  loss_classifier: 0.1675 (0.2302)  loss_box_reg: 0.1508 (0.1719)  loss_mask: 0.4867 (0.7362)  loss_objectness: 0.0550 (0.1250)  loss_rpn_box_reg: 0.0117 (0.0234)  time: 0.6405  data: 0.0134  max mem: 4503\n",
            "Epoch: [0]  [120/378]  eta: 0:02:45  lr: 0.001608  loss: 0.8756 (1.2539)  loss_classifier: 0.1589 (0.2232)  loss_box_reg: 0.1585 (0.1698)  loss_mask: 0.4924 (0.7173)  loss_objectness: 0.0581 (0.1209)  loss_rpn_box_reg: 0.0198 (0.0227)  time: 0.6493  data: 0.0141  max mem: 4503\n",
            "Epoch: [0]  [130/378]  eta: 0:02:40  lr: 0.001741  loss: 0.8756 (1.2307)  loss_classifier: 0.1601 (0.2202)  loss_box_reg: 0.1721 (0.1734)  loss_mask: 0.4804 (0.6977)  loss_objectness: 0.0409 (0.1168)  loss_rpn_box_reg: 0.0112 (0.0225)  time: 0.6697  data: 0.0139  max mem: 4503\n",
            "Epoch: [0]  [140/378]  eta: 0:02:34  lr: 0.001873  loss: 0.9414 (1.2074)  loss_classifier: 0.1718 (0.2164)  loss_box_reg: 0.2298 (0.1775)  loss_mask: 0.4334 (0.6805)  loss_objectness: 0.0353 (0.1111)  loss_rpn_box_reg: 0.0124 (0.0218)  time: 0.6908  data: 0.0132  max mem: 4503\n",
            "Epoch: [0]  [150/378]  eta: 0:02:27  lr: 0.002006  loss: 0.8484 (1.1800)  loss_classifier: 0.1537 (0.2106)  loss_box_reg: 0.1962 (0.1765)  loss_mask: 0.4308 (0.6660)  loss_objectness: 0.0277 (0.1056)  loss_rpn_box_reg: 0.0096 (0.0213)  time: 0.6652  data: 0.0130  max mem: 4503\n",
            "Epoch: [0]  [160/378]  eta: 0:02:21  lr: 0.002138  loss: 0.8484 (1.1633)  loss_classifier: 0.1494 (0.2087)  loss_box_reg: 0.1718 (0.1781)  loss_mask: 0.4295 (0.6533)  loss_objectness: 0.0296 (0.1026)  loss_rpn_box_reg: 0.0082 (0.0207)  time: 0.6516  data: 0.0140  max mem: 4503\n",
            "Epoch: [0]  [170/378]  eta: 0:02:14  lr: 0.002271  loss: 0.7608 (1.1435)  loss_classifier: 0.1404 (0.2042)  loss_box_reg: 0.1439 (0.1763)  loss_mask: 0.4220 (0.6407)  loss_objectness: 0.0394 (0.1007)  loss_rpn_box_reg: 0.0078 (0.0216)  time: 0.6537  data: 0.0138  max mem: 4503\n",
            "Epoch: [0]  [180/378]  eta: 0:02:08  lr: 0.002403  loss: 0.7427 (1.1292)  loss_classifier: 0.1114 (0.2011)  loss_box_reg: 0.1265 (0.1765)  loss_mask: 0.4424 (0.6319)  loss_objectness: 0.0444 (0.0984)  loss_rpn_box_reg: 0.0050 (0.0214)  time: 0.6655  data: 0.0128  max mem: 4503\n",
            "Epoch: [0]  [190/378]  eta: 0:02:02  lr: 0.002536  loss: 0.7812 (1.1126)  loss_classifier: 0.1381 (0.1988)  loss_box_reg: 0.1669 (0.1767)  loss_mask: 0.4290 (0.6204)  loss_objectness: 0.0461 (0.0956)  loss_rpn_box_reg: 0.0070 (0.0211)  time: 0.6541  data: 0.0145  max mem: 4503\n",
            "Epoch: [0]  [200/378]  eta: 0:01:55  lr: 0.002668  loss: 0.7627 (1.0975)  loss_classifier: 0.1402 (0.1969)  loss_box_reg: 0.1661 (0.1785)  loss_mask: 0.4003 (0.6093)  loss_objectness: 0.0285 (0.0924)  loss_rpn_box_reg: 0.0080 (0.0205)  time: 0.6486  data: 0.0144  max mem: 4503\n",
            "Epoch: [0]  [210/378]  eta: 0:01:49  lr: 0.002801  loss: 0.8009 (1.0883)  loss_classifier: 0.1629 (0.1967)  loss_box_reg: 0.1927 (0.1808)  loss_mask: 0.4204 (0.6011)  loss_objectness: 0.0269 (0.0897)  loss_rpn_box_reg: 0.0076 (0.0200)  time: 0.6710  data: 0.0133  max mem: 4503\n",
            "Epoch: [0]  [220/378]  eta: 0:01:43  lr: 0.002933  loss: 0.8290 (1.0786)  loss_classifier: 0.1830 (0.1963)  loss_box_reg: 0.1894 (0.1815)  loss_mask: 0.4295 (0.5941)  loss_objectness: 0.0269 (0.0872)  loss_rpn_box_reg: 0.0075 (0.0195)  time: 0.6668  data: 0.0128  max mem: 4503\n",
            "Epoch: [0]  [230/378]  eta: 0:01:36  lr: 0.003066  loss: 0.8140 (1.0685)  loss_classifier: 0.1798 (0.1953)  loss_box_reg: 0.1660 (0.1815)  loss_mask: 0.4320 (0.5872)  loss_objectness: 0.0297 (0.0852)  loss_rpn_box_reg: 0.0086 (0.0193)  time: 0.6614  data: 0.0141  max mem: 4503\n",
            "Epoch: [0]  [240/378]  eta: 0:01:29  lr: 0.003198  loss: 0.8207 (1.0582)  loss_classifier: 0.1798 (0.1942)  loss_box_reg: 0.1411 (0.1804)  loss_mask: 0.4310 (0.5808)  loss_objectness: 0.0403 (0.0838)  loss_rpn_box_reg: 0.0108 (0.0191)  time: 0.6529  data: 0.0145  max mem: 4503\n",
            "Epoch: [0]  [250/378]  eta: 0:01:23  lr: 0.003331  loss: 0.8211 (1.0493)  loss_classifier: 0.1479 (0.1925)  loss_box_reg: 0.1787 (0.1802)  loss_mask: 0.4335 (0.5751)  loss_objectness: 0.0420 (0.0826)  loss_rpn_box_reg: 0.0108 (0.0188)  time: 0.6471  data: 0.0134  max mem: 4503\n",
            "Epoch: [0]  [260/378]  eta: 0:01:17  lr: 0.003463  loss: 0.8688 (1.0445)  loss_classifier: 0.1660 (0.1920)  loss_box_reg: 0.1832 (0.1812)  loss_mask: 0.4210 (0.5695)  loss_objectness: 0.0387 (0.0826)  loss_rpn_box_reg: 0.0120 (0.0193)  time: 0.6639  data: 0.0145  max mem: 4503\n",
            "Epoch: [0]  [270/378]  eta: 0:01:10  lr: 0.003596  loss: 0.8154 (1.0334)  loss_classifier: 0.1543 (0.1899)  loss_box_reg: 0.1693 (0.1804)  loss_mask: 0.3865 (0.5629)  loss_objectness: 0.0492 (0.0812)  loss_rpn_box_reg: 0.0120 (0.0191)  time: 0.6650  data: 0.0146  max mem: 4503\n",
            "Epoch: [0]  [280/378]  eta: 0:01:03  lr: 0.003728  loss: 0.8154 (1.0301)  loss_classifier: 0.1400 (0.1889)  loss_box_reg: 0.1359 (0.1800)  loss_mask: 0.4396 (0.5618)  loss_objectness: 0.0462 (0.0804)  loss_rpn_box_reg: 0.0120 (0.0190)  time: 0.6517  data: 0.0136  max mem: 4503\n",
            "Epoch: [0]  [290/378]  eta: 0:00:57  lr: 0.003861  loss: 0.8835 (1.0225)  loss_classifier: 0.1219 (0.1858)  loss_box_reg: 0.1147 (0.1770)  loss_mask: 0.4700 (0.5588)  loss_objectness: 0.0568 (0.0810)  loss_rpn_box_reg: 0.0126 (0.0199)  time: 0.6372  data: 0.0138  max mem: 4503\n",
            "Epoch: [0]  [300/378]  eta: 0:00:50  lr: 0.003993  loss: 0.7494 (1.0144)  loss_classifier: 0.0934 (0.1834)  loss_box_reg: 0.0901 (0.1745)  loss_mask: 0.4837 (0.5565)  loss_objectness: 0.0568 (0.0805)  loss_rpn_box_reg: 0.0098 (0.0196)  time: 0.6185  data: 0.0128  max mem: 4503\n",
            "Epoch: [0]  [310/378]  eta: 0:00:44  lr: 0.004126  loss: 0.8131 (1.0130)  loss_classifier: 0.1326 (0.1828)  loss_box_reg: 0.1363 (0.1748)  loss_mask: 0.4837 (0.5555)  loss_objectness: 0.0541 (0.0803)  loss_rpn_box_reg: 0.0087 (0.0197)  time: 0.6360  data: 0.0123  max mem: 4503\n",
            "Epoch: [0]  [320/378]  eta: 0:00:37  lr: 0.004258  loss: 0.8333 (1.0074)  loss_classifier: 0.1326 (0.1816)  loss_box_reg: 0.1542 (0.1741)  loss_mask: 0.4745 (0.5530)  loss_objectness: 0.0423 (0.0792)  loss_rpn_box_reg: 0.0115 (0.0195)  time: 0.6621  data: 0.0136  max mem: 4503\n",
            "Epoch: [0]  [330/378]  eta: 0:00:31  lr: 0.004391  loss: 0.8400 (1.0031)  loss_classifier: 0.1456 (0.1811)  loss_box_reg: 0.1523 (0.1739)  loss_mask: 0.4607 (0.5505)  loss_objectness: 0.0377 (0.0783)  loss_rpn_box_reg: 0.0134 (0.0194)  time: 0.6616  data: 0.0139  max mem: 4503\n",
            "Epoch: [0]  [340/378]  eta: 0:00:24  lr: 0.004523  loss: 0.8494 (0.9988)  loss_classifier: 0.1543 (0.1806)  loss_box_reg: 0.1523 (0.1741)  loss_mask: 0.4395 (0.5474)  loss_objectness: 0.0382 (0.0774)  loss_rpn_box_reg: 0.0109 (0.0193)  time: 0.6534  data: 0.0130  max mem: 4503\n",
            "Epoch: [0]  [350/378]  eta: 0:00:18  lr: 0.004656  loss: 0.9178 (0.9966)  loss_classifier: 0.1557 (0.1802)  loss_box_reg: 0.1343 (0.1742)  loss_mask: 0.4416 (0.5462)  loss_objectness: 0.0435 (0.0768)  loss_rpn_box_reg: 0.0106 (0.0192)  time: 0.6542  data: 0.0128  max mem: 4503\n",
            "Epoch: [0]  [360/378]  eta: 0:00:11  lr: 0.004788  loss: 0.7864 (0.9905)  loss_classifier: 0.1536 (0.1795)  loss_box_reg: 0.1343 (0.1739)  loss_mask: 0.4258 (0.5421)  loss_objectness: 0.0385 (0.0760)  loss_rpn_box_reg: 0.0100 (0.0190)  time: 0.6715  data: 0.0136  max mem: 4503\n",
            "Epoch: [0]  [370/378]  eta: 0:00:05  lr: 0.004921  loss: 0.7733 (0.9850)  loss_classifier: 0.1454 (0.1788)  loss_box_reg: 0.1307 (0.1730)  loss_mask: 0.4041 (0.5392)  loss_objectness: 0.0371 (0.0753)  loss_rpn_box_reg: 0.0100 (0.0187)  time: 0.6577  data: 0.0135  max mem: 4503\n",
            "Epoch: [0]  [377/378]  eta: 0:00:00  lr: 0.005000  loss: 0.8842 (0.9863)  loss_classifier: 0.1536 (0.1792)  loss_box_reg: 0.1507 (0.1730)  loss_mask: 0.4460 (0.5403)  loss_objectness: 0.0510 (0.0751)  loss_rpn_box_reg: 0.0112 (0.0187)  time: 0.6403  data: 0.0128  max mem: 4503\n",
            "Epoch: [0] Total time: 0:04:06 (0.6520 s / it)\n",
            "creating index...\n",
            "index created!\n",
            "Test:  [  0/138]  eta: 0:00:35  model_time: 0.2252 (0.2252)  evaluator_time: 0.0269 (0.0269)  time: 0.2569  data: 0.0044  max mem: 4503\n",
            "Test:  [100/138]  eta: 0:00:08  model_time: 0.1794 (0.1807)  evaluator_time: 0.0331 (0.0348)  time: 0.2221  data: 0.0066  max mem: 4503\n",
            "Test:  [137/138]  eta: 0:00:00  model_time: 0.1901 (0.1821)  evaluator_time: 0.0532 (0.0364)  time: 0.2490  data: 0.0071  max mem: 4503\n",
            "Test: Total time: 0:00:31 (0.2260 s / it)\n",
            "Averaged stats: model_time: 0.1901 (0.1821)  evaluator_time: 0.0532 (0.0364)\n",
            "Accumulating evaluation results...\n",
            "DONE (t=0.24s).\n",
            "Accumulating evaluation results...\n",
            "DONE (t=0.20s).\n",
            "IoU metric: bbox\n",
            " Average Precision  (AP) @[ IoU=0.50:0.95 | area=   all | maxDets=100 ] = 0.028\n",
            " Average Precision  (AP) @[ IoU=0.50      | area=   all | maxDets=100 ] = 0.075\n",
            " Average Precision  (AP) @[ IoU=0.75      | area=   all | maxDets=100 ] = 0.016\n",
            " Average Precision  (AP) @[ IoU=0.50:0.95 | area= small | maxDets=100 ] = 0.009\n",
            " Average Precision  (AP) @[ IoU=0.50:0.95 | area=medium | maxDets=100 ] = 0.051\n",
            " Average Precision  (AP) @[ IoU=0.50:0.95 | area= large | maxDets=100 ] = 0.011\n",
            " Average Recall     (AR) @[ IoU=0.50:0.95 | area=   all | maxDets=  1 ] = 0.050\n",
            " Average Recall     (AR) @[ IoU=0.50:0.95 | area=   all | maxDets= 10 ] = 0.141\n",
            " Average Recall     (AR) @[ IoU=0.50:0.95 | area=   all | maxDets=100 ] = 0.257\n",
            " Average Recall     (AR) @[ IoU=0.50:0.95 | area= small | maxDets=100 ] = 0.183\n",
            " Average Recall     (AR) @[ IoU=0.50:0.95 | area=medium | maxDets=100 ] = 0.341\n",
            " Average Recall     (AR) @[ IoU=0.50:0.95 | area= large | maxDets=100 ] = 0.200\n",
            "IoU metric: segm\n",
            " Average Precision  (AP) @[ IoU=0.50:0.95 | area=   all | maxDets=100 ] = 0.023\n",
            " Average Precision  (AP) @[ IoU=0.50      | area=   all | maxDets=100 ] = 0.079\n",
            " Average Precision  (AP) @[ IoU=0.75      | area=   all | maxDets=100 ] = 0.005\n",
            " Average Precision  (AP) @[ IoU=0.50:0.95 | area= small | maxDets=100 ] = 0.006\n",
            " Average Precision  (AP) @[ IoU=0.50:0.95 | area=medium | maxDets=100 ] = 0.039\n",
            " Average Precision  (AP) @[ IoU=0.50:0.95 | area= large | maxDets=100 ] = 0.040\n",
            " Average Recall     (AR) @[ IoU=0.50:0.95 | area=   all | maxDets=  1 ] = 0.041\n",
            " Average Recall     (AR) @[ IoU=0.50:0.95 | area=   all | maxDets= 10 ] = 0.112\n",
            " Average Recall     (AR) @[ IoU=0.50:0.95 | area=   all | maxDets=100 ] = 0.200\n",
            " Average Recall     (AR) @[ IoU=0.50:0.95 | area= small | maxDets=100 ] = 0.164\n",
            " Average Recall     (AR) @[ IoU=0.50:0.95 | area=medium | maxDets=100 ] = 0.249\n",
            " Average Recall     (AR) @[ IoU=0.50:0.95 | area= large | maxDets=100 ] = 0.116\n",
            "Epoch: [1]  [  0/378]  eta: 0:04:09  lr: 0.005000  loss: 0.9358 (0.9358)  loss_classifier: 0.1631 (0.1631)  loss_box_reg: 0.1245 (0.1245)  loss_mask: 0.5776 (0.5776)  loss_objectness: 0.0585 (0.0585)  loss_rpn_box_reg: 0.0121 (0.0121)  time: 0.6591  data: 0.0127  max mem: 4503\n",
            "Epoch: [1]  [ 10/378]  eta: 0:04:08  lr: 0.005000  loss: 0.9684 (1.0175)  loss_classifier: 0.1921 (0.1988)  loss_box_reg: 0.1500 (0.1752)  loss_mask: 0.5601 (0.5701)  loss_objectness: 0.0557 (0.0576)  loss_rpn_box_reg: 0.0091 (0.0159)  time: 0.6743  data: 0.0131  max mem: 4503\n",
            "Epoch: [1]  [ 20/378]  eta: 0:03:55  lr: 0.005000  loss: 0.9111 (0.9288)  loss_classifier: 0.1712 (0.1774)  loss_box_reg: 0.1488 (0.1547)  loss_mask: 0.5331 (0.5353)  loss_objectness: 0.0386 (0.0486)  loss_rpn_box_reg: 0.0091 (0.0128)  time: 0.6581  data: 0.0134  max mem: 4503\n",
            "Epoch: [1]  [ 30/378]  eta: 0:03:50  lr: 0.005000  loss: 0.8408 (0.9313)  loss_classifier: 0.1634 (0.1800)  loss_box_reg: 0.1606 (0.1742)  loss_mask: 0.4792 (0.5120)  loss_objectness: 0.0347 (0.0517)  loss_rpn_box_reg: 0.0098 (0.0134)  time: 0.6561  data: 0.0134  max mem: 4503\n",
            "Epoch: [1]  [ 40/378]  eta: 0:03:42  lr: 0.005000  loss: 0.8805 (0.9246)  loss_classifier: 0.1551 (0.1740)  loss_box_reg: 0.1585 (0.1695)  loss_mask: 0.4636 (0.5085)  loss_objectness: 0.0533 (0.0584)  loss_rpn_box_reg: 0.0092 (0.0142)  time: 0.6579  data: 0.0144  max mem: 4503\n",
            "Epoch: [1]  [ 50/378]  eta: 0:03:35  lr: 0.005000  loss: 0.7869 (0.8934)  loss_classifier: 0.1132 (0.1630)  loss_box_reg: 0.1288 (0.1597)  loss_mask: 0.4515 (0.4950)  loss_objectness: 0.0574 (0.0600)  loss_rpn_box_reg: 0.0084 (0.0157)  time: 0.6490  data: 0.0139  max mem: 4503\n",
            "Epoch: [1]  [ 60/378]  eta: 0:03:26  lr: 0.005000  loss: 0.7638 (0.8719)  loss_classifier: 0.1120 (0.1563)  loss_box_reg: 0.1151 (0.1557)  loss_mask: 0.4095 (0.4834)  loss_objectness: 0.0577 (0.0606)  loss_rpn_box_reg: 0.0106 (0.0159)  time: 0.6339  data: 0.0121  max mem: 4503\n",
            "Epoch: [1]  [ 70/378]  eta: 0:03:19  lr: 0.005000  loss: 0.6963 (0.8567)  loss_classifier: 0.1061 (0.1505)  loss_box_reg: 0.1151 (0.1524)  loss_mask: 0.4260 (0.4761)  loss_objectness: 0.0577 (0.0613)  loss_rpn_box_reg: 0.0117 (0.0164)  time: 0.6226  data: 0.0124  max mem: 4503\n",
            "Epoch: [1]  [ 80/378]  eta: 0:03:13  lr: 0.005000  loss: 0.6963 (0.8510)  loss_classifier: 0.1068 (0.1500)  loss_box_reg: 0.1384 (0.1547)  loss_mask: 0.4280 (0.4710)  loss_objectness: 0.0423 (0.0588)  loss_rpn_box_reg: 0.0129 (0.0165)  time: 0.6445  data: 0.0143  max mem: 4503\n",
            "Epoch: [1]  [ 90/378]  eta: 0:03:06  lr: 0.005000  loss: 0.8130 (0.8495)  loss_classifier: 0.1526 (0.1509)  loss_box_reg: 0.1642 (0.1568)  loss_mask: 0.4413 (0.4690)  loss_objectness: 0.0343 (0.0570)  loss_rpn_box_reg: 0.0126 (0.0159)  time: 0.6538  data: 0.0148  max mem: 4503\n",
            "Epoch: [1]  [100/378]  eta: 0:03:01  lr: 0.005000  loss: 0.8425 (0.8557)  loss_classifier: 0.1634 (0.1509)  loss_box_reg: 0.1724 (0.1606)  loss_mask: 0.4255 (0.4700)  loss_objectness: 0.0344 (0.0573)  loss_rpn_box_reg: 0.0093 (0.0168)  time: 0.6611  data: 0.0134  max mem: 4503\n",
            "Epoch: [1]  [110/378]  eta: 0:02:54  lr: 0.005000  loss: 0.8449 (0.8515)  loss_classifier: 0.1484 (0.1519)  loss_box_reg: 0.1554 (0.1614)  loss_mask: 0.4197 (0.4656)  loss_objectness: 0.0337 (0.0555)  loss_rpn_box_reg: 0.0088 (0.0170)  time: 0.6660  data: 0.0141  max mem: 4503\n",
            "Epoch: [1]  [120/378]  eta: 0:02:48  lr: 0.005000  loss: 0.7858 (0.8510)  loss_classifier: 0.1480 (0.1520)  loss_box_reg: 0.1626 (0.1619)  loss_mask: 0.4426 (0.4645)  loss_objectness: 0.0337 (0.0555)  loss_rpn_box_reg: 0.0103 (0.0171)  time: 0.6639  data: 0.0143  max mem: 4503\n",
            "Epoch: [1]  [130/378]  eta: 0:02:41  lr: 0.005000  loss: 0.7751 (0.8498)  loss_classifier: 0.1359 (0.1522)  loss_box_reg: 0.1761 (0.1622)  loss_mask: 0.4426 (0.4635)  loss_objectness: 0.0376 (0.0551)  loss_rpn_box_reg: 0.0085 (0.0167)  time: 0.6474  data: 0.0132  max mem: 4503\n",
            "Epoch: [1]  [140/378]  eta: 0:02:35  lr: 0.005000  loss: 0.7751 (0.8509)  loss_classifier: 0.1406 (0.1534)  loss_box_reg: 0.1556 (0.1634)  loss_mask: 0.4154 (0.4597)  loss_objectness: 0.0376 (0.0570)  loss_rpn_box_reg: 0.0087 (0.0173)  time: 0.6526  data: 0.0133  max mem: 4503\n",
            "Epoch: [1]  [150/378]  eta: 0:02:28  lr: 0.005000  loss: 0.7718 (0.8464)  loss_classifier: 0.1406 (0.1530)  loss_box_reg: 0.1393 (0.1652)  loss_mask: 0.4090 (0.4563)  loss_objectness: 0.0265 (0.0551)  loss_rpn_box_reg: 0.0079 (0.0168)  time: 0.6593  data: 0.0144  max mem: 4503\n",
            "Epoch: [1]  [160/378]  eta: 0:02:23  lr: 0.005000  loss: 0.7656 (0.8412)  loss_classifier: 0.1518 (0.1523)  loss_box_reg: 0.1588 (0.1652)  loss_mask: 0.4090 (0.4531)  loss_objectness: 0.0261 (0.0541)  loss_rpn_box_reg: 0.0086 (0.0165)  time: 0.6796  data: 0.0140  max mem: 4504\n",
            "Epoch: [1]  [170/378]  eta: 0:02:16  lr: 0.005000  loss: 0.7613 (0.8332)  loss_classifier: 0.1332 (0.1507)  loss_box_reg: 0.1518 (0.1639)  loss_mask: 0.3683 (0.4495)  loss_objectness: 0.0315 (0.0529)  loss_rpn_box_reg: 0.0086 (0.0162)  time: 0.6906  data: 0.0126  max mem: 4504\n",
            "Epoch: [1]  [180/378]  eta: 0:02:10  lr: 0.005000  loss: 0.7670 (0.8355)  loss_classifier: 0.1484 (0.1529)  loss_box_reg: 0.1701 (0.1673)  loss_mask: 0.3913 (0.4473)  loss_objectness: 0.0304 (0.0519)  loss_rpn_box_reg: 0.0090 (0.0161)  time: 0.6984  data: 0.0140  max mem: 4504\n",
            "Epoch: [1]  [190/378]  eta: 0:02:04  lr: 0.005000  loss: 0.8190 (0.8329)  loss_classifier: 0.1431 (0.1524)  loss_box_reg: 0.1688 (0.1665)  loss_mask: 0.4128 (0.4477)  loss_objectness: 0.0286 (0.0506)  loss_rpn_box_reg: 0.0080 (0.0157)  time: 0.7108  data: 0.0140  max mem: 4504\n",
            "Epoch: [1]  [200/378]  eta: 0:01:57  lr: 0.005000  loss: 0.8357 (0.8356)  loss_classifier: 0.1678 (0.1536)  loss_box_reg: 0.1688 (0.1675)  loss_mask: 0.4342 (0.4475)  loss_objectness: 0.0307 (0.0512)  loss_rpn_box_reg: 0.0084 (0.0159)  time: 0.6693  data: 0.0124  max mem: 4504\n",
            "Epoch: [1]  [210/378]  eta: 0:01:51  lr: 0.005000  loss: 0.8357 (0.8340)  loss_classifier: 0.1678 (0.1534)  loss_box_reg: 0.1541 (0.1671)  loss_mask: 0.4269 (0.4465)  loss_objectness: 0.0315 (0.0512)  loss_rpn_box_reg: 0.0084 (0.0158)  time: 0.6550  data: 0.0124  max mem: 4504\n",
            "Epoch: [1]  [220/378]  eta: 0:01:44  lr: 0.005000  loss: 0.7468 (0.8289)  loss_classifier: 0.1247 (0.1521)  loss_box_reg: 0.1241 (0.1656)  loss_mask: 0.4326 (0.4453)  loss_objectness: 0.0245 (0.0504)  loss_rpn_box_reg: 0.0052 (0.0155)  time: 0.6579  data: 0.0129  max mem: 4504\n",
            "Epoch: [1]  [230/378]  eta: 0:01:37  lr: 0.005000  loss: 0.7391 (0.8253)  loss_classifier: 0.1143 (0.1510)  loss_box_reg: 0.1404 (0.1652)  loss_mask: 0.4357 (0.4437)  loss_objectness: 0.0258 (0.0501)  loss_rpn_box_reg: 0.0067 (0.0153)  time: 0.6338  data: 0.0130  max mem: 4504\n",
            "Epoch: [1]  [240/378]  eta: 0:01:31  lr: 0.005000  loss: 0.7910 (0.8243)  loss_classifier: 0.1566 (0.1518)  loss_box_reg: 0.1785 (0.1669)  loss_mask: 0.3962 (0.4408)  loss_objectness: 0.0307 (0.0496)  loss_rpn_box_reg: 0.0078 (0.0152)  time: 0.6454  data: 0.0126  max mem: 4504\n",
            "Epoch: [1]  [250/378]  eta: 0:01:24  lr: 0.005000  loss: 0.8062 (0.8219)  loss_classifier: 0.1566 (0.1514)  loss_box_reg: 0.1734 (0.1661)  loss_mask: 0.3835 (0.4400)  loss_objectness: 0.0350 (0.0493)  loss_rpn_box_reg: 0.0109 (0.0151)  time: 0.6741  data: 0.0140  max mem: 4504\n",
            "Epoch: [1]  [260/378]  eta: 0:01:17  lr: 0.005000  loss: 0.7778 (0.8215)  loss_classifier: 0.1416 (0.1514)  loss_box_reg: 0.1501 (0.1662)  loss_mask: 0.4103 (0.4396)  loss_objectness: 0.0309 (0.0491)  loss_rpn_box_reg: 0.0117 (0.0151)  time: 0.6615  data: 0.0142  max mem: 4504\n",
            "Epoch: [1]  [270/378]  eta: 0:01:11  lr: 0.005000  loss: 0.7796 (0.8209)  loss_classifier: 0.1565 (0.1520)  loss_box_reg: 0.1715 (0.1672)  loss_mask: 0.3969 (0.4376)  loss_objectness: 0.0364 (0.0490)  loss_rpn_box_reg: 0.0097 (0.0151)  time: 0.6504  data: 0.0138  max mem: 4504\n",
            "Epoch: [1]  [280/378]  eta: 0:01:04  lr: 0.005000  loss: 0.7796 (0.8193)  loss_classifier: 0.1495 (0.1515)  loss_box_reg: 0.1649 (0.1666)  loss_mask: 0.3848 (0.4374)  loss_objectness: 0.0375 (0.0487)  loss_rpn_box_reg: 0.0097 (0.0151)  time: 0.6655  data: 0.0143  max mem: 4504\n",
            "Epoch: [1]  [290/378]  eta: 0:00:58  lr: 0.005000  loss: 0.7712 (0.8223)  loss_classifier: 0.1371 (0.1520)  loss_box_reg: 0.1305 (0.1668)  loss_mask: 0.3800 (0.4366)  loss_objectness: 0.0471 (0.0504)  loss_rpn_box_reg: 0.0108 (0.0165)  time: 0.6643  data: 0.0137  max mem: 4504\n",
            "Epoch: [1]  [300/378]  eta: 0:00:51  lr: 0.005000  loss: 0.6778 (0.8170)  loss_classifier: 0.1267 (0.1504)  loss_box_reg: 0.1305 (0.1656)  loss_mask: 0.3838 (0.4348)  loss_objectness: 0.0466 (0.0499)  loss_rpn_box_reg: 0.0102 (0.0164)  time: 0.6459  data: 0.0131  max mem: 4504\n",
            "Epoch: [1]  [310/378]  eta: 0:00:44  lr: 0.005000  loss: 0.6399 (0.8113)  loss_classifier: 0.0952 (0.1487)  loss_box_reg: 0.1186 (0.1642)  loss_mask: 0.3764 (0.4327)  loss_objectness: 0.0293 (0.0495)  loss_rpn_box_reg: 0.0096 (0.0162)  time: 0.6423  data: 0.0138  max mem: 4504\n",
            "Epoch: [1]  [320/378]  eta: 0:00:38  lr: 0.005000  loss: 0.6634 (0.8106)  loss_classifier: 0.0961 (0.1482)  loss_box_reg: 0.1238 (0.1635)  loss_mask: 0.3672 (0.4328)  loss_objectness: 0.0274 (0.0496)  loss_rpn_box_reg: 0.0096 (0.0165)  time: 0.6524  data: 0.0139  max mem: 4504\n",
            "Epoch: [1]  [330/378]  eta: 0:00:31  lr: 0.005000  loss: 0.7951 (0.8093)  loss_classifier: 0.1503 (0.1485)  loss_box_reg: 0.1435 (0.1640)  loss_mask: 0.3786 (0.4313)  loss_objectness: 0.0306 (0.0492)  loss_rpn_box_reg: 0.0066 (0.0164)  time: 0.6764  data: 0.0130  max mem: 4504\n",
            "Epoch: [1]  [340/378]  eta: 0:00:25  lr: 0.005000  loss: 0.7822 (0.8080)  loss_classifier: 0.1458 (0.1481)  loss_box_reg: 0.1517 (0.1640)  loss_mask: 0.3903 (0.4312)  loss_objectness: 0.0276 (0.0485)  loss_rpn_box_reg: 0.0057 (0.0161)  time: 0.6640  data: 0.0128  max mem: 4504\n",
            "Epoch: [1]  [350/378]  eta: 0:00:18  lr: 0.005000  loss: 0.7516 (0.8102)  loss_classifier: 0.1298 (0.1487)  loss_box_reg: 0.1450 (0.1648)  loss_mask: 0.4164 (0.4317)  loss_objectness: 0.0308 (0.0489)  loss_rpn_box_reg: 0.0072 (0.0161)  time: 0.6551  data: 0.0138  max mem: 4504\n",
            "Epoch: [1]  [360/378]  eta: 0:00:11  lr: 0.005000  loss: 0.7571 (0.8093)  loss_classifier: 0.1538 (0.1488)  loss_box_reg: 0.1510 (0.1645)  loss_mask: 0.4293 (0.4311)  loss_objectness: 0.0380 (0.0489)  loss_rpn_box_reg: 0.0114 (0.0160)  time: 0.6506  data: 0.0138  max mem: 4504\n",
            "Epoch: [1]  [370/378]  eta: 0:00:05  lr: 0.005000  loss: 0.7995 (0.8094)  loss_classifier: 0.1558 (0.1493)  loss_box_reg: 0.1567 (0.1647)  loss_mask: 0.4213 (0.4307)  loss_objectness: 0.0380 (0.0487)  loss_rpn_box_reg: 0.0114 (0.0159)  time: 0.6473  data: 0.0131  max mem: 4504\n",
            "Epoch: [1]  [377/378]  eta: 0:00:00  lr: 0.005000  loss: 0.7571 (0.8103)  loss_classifier: 0.1570 (0.1499)  loss_box_reg: 0.1567 (0.1656)  loss_mask: 0.3901 (0.4301)  loss_objectness: 0.0390 (0.0486)  loss_rpn_box_reg: 0.0113 (0.0161)  time: 0.6612  data: 0.0140  max mem: 4504\n",
            "Epoch: [1] Total time: 0:04:09 (0.6597 s / it)\n",
            "creating index...\n",
            "index created!\n",
            "Test:  [  0/138]  eta: 0:00:29  model_time: 0.1815 (0.1815)  evaluator_time: 0.0243 (0.0243)  time: 0.2112  data: 0.0050  max mem: 4504\n",
            "Test:  [100/138]  eta: 0:00:06  model_time: 0.1388 (0.1434)  evaluator_time: 0.0174 (0.0180)  time: 0.1752  data: 0.0066  max mem: 4504\n",
            "Test:  [137/138]  eta: 0:00:00  model_time: 0.1399 (0.1440)  evaluator_time: 0.0157 (0.0191)  time: 0.1683  data: 0.0069  max mem: 4504\n",
            "Test: Total time: 0:00:23 (0.1702 s / it)\n",
            "Averaged stats: model_time: 0.1399 (0.1440)  evaluator_time: 0.0157 (0.0191)\n",
            "Accumulating evaluation results...\n",
            "DONE (t=0.07s).\n",
            "Accumulating evaluation results...\n",
            "DONE (t=0.08s).\n",
            "IoU metric: bbox\n",
            " Average Precision  (AP) @[ IoU=0.50:0.95 | area=   all | maxDets=100 ] = 0.089\n",
            " Average Precision  (AP) @[ IoU=0.50      | area=   all | maxDets=100 ] = 0.215\n",
            " Average Precision  (AP) @[ IoU=0.75      | area=   all | maxDets=100 ] = 0.055\n",
            " Average Precision  (AP) @[ IoU=0.50:0.95 | area= small | maxDets=100 ] = 0.027\n",
            " Average Precision  (AP) @[ IoU=0.50:0.95 | area=medium | maxDets=100 ] = 0.158\n",
            " Average Precision  (AP) @[ IoU=0.50:0.95 | area= large | maxDets=100 ] = 0.146\n",
            " Average Recall     (AR) @[ IoU=0.50:0.95 | area=   all | maxDets=  1 ] = 0.100\n",
            " Average Recall     (AR) @[ IoU=0.50:0.95 | area=   all | maxDets= 10 ] = 0.260\n",
            " Average Recall     (AR) @[ IoU=0.50:0.95 | area=   all | maxDets=100 ] = 0.355\n",
            " Average Recall     (AR) @[ IoU=0.50:0.95 | area= small | maxDets=100 ] = 0.248\n",
            " Average Recall     (AR) @[ IoU=0.50:0.95 | area=medium | maxDets=100 ] = 0.470\n",
            " Average Recall     (AR) @[ IoU=0.50:0.95 | area= large | maxDets=100 ] = 0.326\n",
            "IoU metric: segm\n",
            " Average Precision  (AP) @[ IoU=0.50:0.95 | area=   all | maxDets=100 ] = 0.074\n",
            " Average Precision  (AP) @[ IoU=0.50      | area=   all | maxDets=100 ] = 0.215\n",
            " Average Precision  (AP) @[ IoU=0.75      | area=   all | maxDets=100 ] = 0.033\n",
            " Average Precision  (AP) @[ IoU=0.50:0.95 | area= small | maxDets=100 ] = 0.012\n",
            " Average Precision  (AP) @[ IoU=0.50:0.95 | area=medium | maxDets=100 ] = 0.124\n",
            " Average Precision  (AP) @[ IoU=0.50:0.95 | area= large | maxDets=100 ] = 0.201\n",
            " Average Recall     (AR) @[ IoU=0.50:0.95 | area=   all | maxDets=  1 ] = 0.083\n",
            " Average Recall     (AR) @[ IoU=0.50:0.95 | area=   all | maxDets= 10 ] = 0.202\n",
            " Average Recall     (AR) @[ IoU=0.50:0.95 | area=   all | maxDets=100 ] = 0.282\n",
            " Average Recall     (AR) @[ IoU=0.50:0.95 | area= small | maxDets=100 ] = 0.200\n",
            " Average Recall     (AR) @[ IoU=0.50:0.95 | area=medium | maxDets=100 ] = 0.361\n",
            " Average Recall     (AR) @[ IoU=0.50:0.95 | area= large | maxDets=100 ] = 0.326\n"
          ]
        }
      ]
    }
  ]
}